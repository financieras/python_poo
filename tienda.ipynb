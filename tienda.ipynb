{
  "nbformat": 4,
  "nbformat_minor": 0,
  "metadata": {
    "colab": {
      "provenance": [],
      "authorship_tag": "ABX9TyP26KWETw4QqVfYseh6R4qk",
      "include_colab_link": true
    },
    "kernelspec": {
      "name": "python3",
      "display_name": "Python 3"
    },
    "language_info": {
      "name": "python"
    }
  },
  "cells": [
    {
      "cell_type": "markdown",
      "metadata": {
        "id": "view-in-github",
        "colab_type": "text"
      },
      "source": [
        "<a href=\"https://colab.research.google.com/github/financieras/python_poo/blob/main/tienda.ipynb\" target=\"_parent\"><img src=\"https://colab.research.google.com/assets/colab-badge.svg\" alt=\"Open In Colab\"/></a>"
      ]
    },
    {
      "cell_type": "markdown",
      "source": [
        "# Tienda de comestibles\n",
        "1. Imagina que estás desarrollando un programa para administrar una tienda de comestibles.\n",
        "2. Crea una clase llamada `Producto` que represente un producto en la tienda.\n",
        "3. Cada producto debe tener las siguientes propiedades:\n",
        " - Nombre: una cadena de texto que representa el nombre del producto.\n",
        " - Precio: un número decimal que representa el precio del producto.\n",
        " - Stock: un número entero que representa la cantidad disponible en el stock del producto.\n",
        "4. Además, cada producto puede tener una categoría específica, como \"frutas\", \"verduras\" o \"lácteos\".\n",
        "5. Crea una clase llamada `Categoria` que represente una categoría de productos.\n",
        "6. Cada categoría debe tener las siguientes propiedades:\n",
        " - Nombre: una cadena de texto que representa el nombre de la categoría.\n",
        " - Descripción: una cadena de texto que describe la categoría.\n",
        "7. La clase `Producto` debe tener los siguientes métodos:\n",
        " - `get_nombre()`: devuelve el nombre del producto.\n",
        " - `get_precio()`: devuelve el precio del producto.\n",
        " - `get_stock()`: devuelve la cantidad disponible en el stock del producto.\n",
        "8. La clase `Categoria` debe tener los siguientes métodos:\n",
        " - `get_nombre()`: devuelve el nombre de la categoría.\n",
        " - `get_descripcion()`: devuelve la descripción de la categoría.\n",
        "9. Además, la clase `Producto` debe tener un método llamado `mostrar_informacion()` que imprima por pantalla la información completa del producto en el siguiente formato:\n",
        "- \"Nombre: [nombre_producto], Precio: [precio], Stock: [cantidad disponible en el stock], Categoría: [nombre_categoría]\".\n",
        "\n",
        "10. Tu tarea es implementar las clases `Producto` y `Categoria` con sus propiedades y métodos, y luego crear dos instancias de la clase `Producto` y una instancia de la clase `Categoria` para probar su funcionamiento."
      ],
      "metadata": {
        "id": "ybxCdbg8T98J"
      }
    },
    {
      "cell_type": "code",
      "execution_count": null,
      "metadata": {
        "id": "MpFXfGkcT9Dn"
      },
      "outputs": [],
      "source": []
    }
  ]
}