{
  "nbformat": 4,
  "nbformat_minor": 0,
  "metadata": {
    "colab": {
      "provenance": [],
      "authorship_tag": "ABX9TyMrl5pxNpoXgmX8V6cWGRpw",
      "include_colab_link": true
    },
    "kernelspec": {
      "name": "python3",
      "display_name": "Python 3"
    },
    "language_info": {
      "name": "python"
    }
  },
  "cells": [
    {
      "cell_type": "markdown",
      "metadata": {
        "id": "view-in-github",
        "colab_type": "text"
      },
      "source": [
        "<a href=\"https://colab.research.google.com/github/financieras/python_poo/blob/main/tablero/tablero7/depurando_simplificado.ipynb\" target=\"_parent\"><img src=\"https://colab.research.google.com/assets/colab-badge.svg\" alt=\"Open In Colab\"/></a>"
      ]
    },
    {
      "cell_type": "code",
      "source": [
        "from random import randint\n",
        "\n",
        "class Jugador:\n",
        "    def __init__(self, letra, x, y):\n",
        "        self.letra = letra\n",
        "        self.x = x\n",
        "        self.y = y\n",
        "\n",
        "    def distancia(self, posicion_inicial, posicion_final):    # las posiciones son tuplas con la componentes (x,y)\n",
        "        return abs(posicion_final[0]-posicion_inicial[0]) + abs(posicion_final[1]-posicion_inicial[1])  # retorna un int\n",
        "\n",
        "    def mover_hacia_comida(self, jugador, matrix):  # determinamos el movimiento dx, dy necesario para ir hacia la comida más cercana aunque no sea inmediata\n",
        "        # CALCULAMOS LA POSICIÓN DE LA COMIDA MÁS CERCANA\n",
        "        min_distancia = None            # inicializamos la variable\n",
        "        posicion_comida_cercana = None  # tupla con la posición a la comida más cercana\n",
        "        for i in range(DIM):\n",
        "            for j in range(DIM):\n",
        "                distance = self.distancia((jugador.x, jugador.y), (i, j))\n",
        "                if (min_distancia == None or distance < min_distancia) and matrix[i][j].isdigit():\n",
        "                    posicion_comida_cercana = (i, j)   # al finalizar los dos bucles tendremos en esta variable la posición a la comida más cercana\n",
        "                    min_distancia = distance    # y tendremos la distancia que separa al jugador de la comida más cercana\n",
        "        #print(\"posicion_comida_cercana:\", posicion_comida_cercana)\n",
        "        #print(\"min_distancia =\", min_distancia)\n",
        "\n",
        "        # PROBAMOS LOS 4 POSIBLES MOVIMIENTOS para ver en cuál obtendríamos la min_distancia-1 y que no se monte encima de otro jugador\n",
        "        for movimiento in MOVIMIENTOS:\n",
        "            dx, dy = movimiento\n",
        "            new_x, new_y = jugador.x + dx, jugador.y + dy\n",
        "            if self.distancia((new_x, new_y), posicion_comida_cercana) == min_distancia-1 and not(matrix[new_x][new_y].isalpha()):\n",
        "                return dx, dy\n",
        "        return 1,1  #jugador.mover_aleatorio(libertades)\n",
        "\n",
        "\n",
        "class Comida:\n",
        "    def __init__(self, x, y, valor):\n",
        "        self.x = x\n",
        "        self.y = y\n",
        "        self.valor = valor\n",
        "\n",
        "class Board:\n",
        "    def __init__(self, NUM_PLAYERS, AMOUNT_FOOD):\n",
        "        self.matrix = [['·']*DIM for _ in range(DIM)]\n",
        "        self.jugadores = []     # array de objetos de la clase Jugador\n",
        "        self.comidas = []       # array de objetos de la clase Comida\n",
        "        for i in range(NUM_PLAYERS):    # ubicar jugadores\n",
        "            while True:\n",
        "                (jugador_x, jugador_y) = (randint(0, DIM-1), randint(0, DIM-1))\n",
        "                if self.matrix[jugador_x][jugador_y] == '·':\n",
        "                    break   # ya hemos encontrado sitio libre para el jugador\n",
        "            self.matrix[jugador_x][jugador_y] = chr(65 + i)    # letras\n",
        "            jugador = Jugador(chr(65 + i), jugador_x, jugador_y)   # instanciación de un objeto de la clase Jugador\n",
        "            self.jugadores.append(jugador)\n",
        "        for i in range(AMOUNT_FOOD):   # ubicar comida\n",
        "            while True:\n",
        "                comida_x, comida_y = randint(0, DIM-1), randint(0, DIM-1)\n",
        "                if self.matrix[comida_x][comida_y] == '·':\n",
        "                    break   # ya hemos encontrado un sitio libre para la comida\n",
        "            valor_comida = randint(1, 9)\n",
        "            self.matrix[comida_x][comida_y] = str(valor_comida)    # los números del board van como strings\n",
        "            comida = Comida(comida_x, comida_y, valor_comida)   # instanciación de un objeto de la clase Comida\n",
        "            self.comidas.append(comida)\n",
        "\n",
        "    def __str__(self):\n",
        "        res = ''\n",
        "        for row in self.matrix:\n",
        "            res += ' '.join(row) + '\\n'\n",
        "        return res\n",
        "\n",
        "    def mover_jugador(self, jugador):\n",
        "        posicion_jugador = (jugador.x, jugador.y)\n",
        "        print(f'\\nJugador {jugador.letra}:\\nPosición jugador: {posicion_jugador}')\n",
        "        (dx, dy) = jugador.mover_hacia_comida(jugador, self.matrix)\n",
        "        print(f\"Movimiento necesario: (dx, dy) = ({dx}, {dy})\")\n",
        "\n",
        "    def imprimir_valor_comidas(self):\n",
        "        print(f'Valor comidas: {[comida.valor for comida in self.comidas]}')\n",
        "\n",
        "class Juego:\n",
        "    def __init__(self, NUM_PLAYERS, AMOUNT_FOOD):\n",
        "        self.board = Board(NUM_PLAYERS, AMOUNT_FOOD)   # instanciamos un objeto de la clase Board\n",
        "\n",
        "    def jugar(self):\n",
        "        print(self.board)\n",
        "        self.board.imprimir_valor_comidas()\n",
        "        for jugador in self.board.jugadores:\n",
        "            self.board.mover_jugador(jugador)     # invocamos el método mover_jugador\n",
        "\n",
        "\n",
        "if \"__main__\" == __name__:\n",
        "    DIM = 10        # dimensión del board cuadrado. Debe ser suficiente para todos los jugadores y una comida\n",
        "    NUM_PLAYERS = 2\n",
        "    AMOUNT_FOOD = 5\n",
        "    MOVIMIENTOS = [(0, 1), (0, -1), (1, 0), (-1, 0)]    # tuplas: Derecha, Izquierda, aBajo, Arriba\n",
        "    partida = Juego(NUM_PLAYERS, AMOUNT_FOOD)\n",
        "    partida.jugar()\n"
      ],
      "metadata": {
        "colab": {
          "base_uri": "https://localhost:8080/"
        },
        "id": "uPdJl2zShUWu",
        "outputId": "962dede3-b240-4e93-f14f-7c16cba4041b"
      },
      "execution_count": 51,
      "outputs": [
        {
          "output_type": "stream",
          "name": "stdout",
          "text": [
            "· · · · · · · · · ·\n",
            "· · · · B · · · · ·\n",
            "· · · · · 4 · · · ·\n",
            "· · · · · · A · · 8\n",
            "· · · · · · 8 · · 4\n",
            "· · · · · · · · · ·\n",
            "· · · · · · 3 · · ·\n",
            "· · · · · · · · · ·\n",
            "· · · · · · · · · ·\n",
            "· · · · · · · · · ·\n",
            "\n",
            "Valor comidas: [8, 3, 4, 4, 8]\n",
            "\n",
            "Jugador A:\n",
            "Posición jugador: (3, 6)\n",
            "Movimiento necesario: (dx, dy) = (1, 0)\n",
            "\n",
            "Jugador B:\n",
            "Posición jugador: (1, 4)\n",
            "Movimiento necesario: (dx, dy) = (0, 1)\n"
          ]
        }
      ]
    }
  ]
}