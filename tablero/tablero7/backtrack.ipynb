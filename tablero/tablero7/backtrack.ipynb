{
  "nbformat": 4,
  "nbformat_minor": 0,
  "metadata": {
    "colab": {
      "provenance": [],
      "authorship_tag": "ABX9TyMtN5mOm3cncqUPVWujjjqk",
      "include_colab_link": true
    },
    "kernelspec": {
      "name": "python3",
      "display_name": "Python 3"
    },
    "language_info": {
      "name": "python"
    }
  },
  "cells": [
    {
      "cell_type": "markdown",
      "metadata": {
        "id": "view-in-github",
        "colab_type": "text"
      },
      "source": [
        "<a href=\"https://colab.research.google.com/github/financieras/python_poo/blob/main/tablero/tablero7/backtrack.ipynb\" target=\"_parent\"><img src=\"https://colab.research.google.com/assets/colab-badge.svg\" alt=\"Open In Colab\"/></a>"
      ]
    },
    {
      "cell_type": "markdown",
      "source": [
        "# Algoritmo Backtrack\n",
        "* Aplicado a la búsqueda de un objetivo.\n",
        "* Dada una lista de números determinar las sublistas que llegan a sumar un valor determinadado."
      ],
      "metadata": {
        "id": "Oi8raAGQHkXH"
      }
    },
    {
      "cell_type": "code",
      "execution_count": 1,
      "metadata": {
        "colab": {
          "base_uri": "https://localhost:8080/"
        },
        "id": "yjX1JLwgETH6",
        "outputId": "af75445a-1889-4a18-a72e-0cafb158489c"
      },
      "outputs": [
        {
          "output_type": "stream",
          "name": "stdout",
          "text": [
            "[[1, 1, 1, 1, 1], [1, 1, 1, 2], [1, 1, 3], [1, 2, 2], [1, 4], [2, 3]]\n"
          ]
        }
      ],
      "source": [
        "def backtrack_suma(numeros, objetivo):\n",
        "    def backtrack(remain, comb, start):\n",
        "        if remain == 0:\n",
        "            result.append(list(comb))\n",
        "            return\n",
        "        elif remain < 0:\n",
        "            return\n",
        "        for i in range(start, len(numeros)):\n",
        "            comb.append(numeros[i])\n",
        "            backtrack(remain - numeros[i], comb, i)\n",
        "            comb.pop()\n",
        "\n",
        "    result = []\n",
        "    backtrack(objetivo, [], 0)\n",
        "    return result\n",
        "\n",
        "numeros = [1, 2, 3, 4]\n",
        "objetivo = 5\n",
        "print(backtrack_suma(numeros, objetivo))\n"
      ]
    },
    {
      "cell_type": "markdown",
      "source": [
        "## Sin repetición\n",
        "1. La función `backtrack_suma` toma dos argumentos: una lista de números y un objetivo.\n",
        " * La función utiliza una función interna llamada `backtrack` que realiza la búsqueda real.\n",
        " * La función `backtrack` toma tres argumentos: el número restante que se debe sumar para alcanzar el objetivo (`remain`), una lista de números que se han sumado hasta ahora (`comb`) y el índice del número en la lista original desde el cual comenzar a buscar (`start`).\n",
        " * La función `backtrack` utiliza un bucle `for` para iterar sobre los números restantes en la lista y se llama a sí misma recursivamente para buscar todas las combinaciones posibles de números que sumen el valor restante.\n",
        "\n",
        "2. La modificación que se ha realizado en esta versión del código es que se ha añadido una comprobación para evitar valores repetidos en la solución.\n",
        " * La comprobación se realiza en la línea 10 del código.\n",
        " * Si el número actual es igual al número anterior, se omite y se pasa al siguiente número.\n",
        "\n",
        "3. La línea 14 del código ordena la lista de números para asegurarse de que los números repetidos estén juntos."
      ],
      "metadata": {
        "id": "RdJ_CxDFFf92"
      }
    },
    {
      "cell_type": "code",
      "source": [
        "def backtrack_suma(numeros, objetivo):\n",
        "    def backtrack(remain, comb, start):\n",
        "        if remain == 0:\n",
        "            result.append(list(comb))\n",
        "            return\n",
        "        elif remain < 0:\n",
        "            return\n",
        "        for i in range(start, len(numeros)):\n",
        "            if i > start and numeros[i] == numeros[i-1]:\n",
        "                continue\n",
        "            comb.append(numeros[i])\n",
        "            backtrack(remain - numeros[i], comb, i + 1)\n",
        "            comb.pop()\n",
        "\n",
        "    numeros.sort()\n",
        "    result = []\n",
        "    backtrack(objetivo, [], 0)\n",
        "    return result\n",
        "\n",
        "numeros = [1, 2, 3, 4, 5, 6, 7, 8, 9]\n",
        "objetivo = 10\n",
        "print(backtrack_suma(numeros, objetivo))\n"
      ],
      "metadata": {
        "colab": {
          "base_uri": "https://localhost:8080/"
        },
        "id": "kBRNXH8XFGFy",
        "outputId": "4e3d15b7-f1b1-4e60-ce47-9f147ee3e5a4"
      },
      "execution_count": 5,
      "outputs": [
        {
          "output_type": "stream",
          "name": "stdout",
          "text": [
            "[[1, 2, 3, 4], [1, 2, 7], [1, 3, 6], [1, 4, 5], [1, 9], [2, 3, 5], [2, 8], [3, 7], [4, 6]]\n"
          ]
        }
      ]
    }
  ]
}