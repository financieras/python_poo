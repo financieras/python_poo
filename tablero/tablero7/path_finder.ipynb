{
  "nbformat": 4,
  "nbformat_minor": 0,
  "metadata": {
    "colab": {
      "provenance": [],
      "authorship_tag": "ABX9TyNXh0Oh4aUm/cpuVazJ25Cp",
      "include_colab_link": true
    },
    "kernelspec": {
      "name": "python3",
      "display_name": "Python 3"
    },
    "language_info": {
      "name": "python"
    }
  },
  "cells": [
    {
      "cell_type": "markdown",
      "metadata": {
        "id": "view-in-github",
        "colab_type": "text"
      },
      "source": [
        "<a href=\"https://colab.research.google.com/github/financieras/python_poo/blob/main/tablero/tablero7/path_finder.ipynb\" target=\"_parent\"><img src=\"https://colab.research.google.com/assets/colab-badge.svg\" alt=\"Open In Colab\"/></a>"
      ]
    },
    {
      "cell_type": "markdown",
      "source": [
        "# Path Finder\n",
        "Busca un camino que mueva el jugador A dese su posición INICIAL hasta su posición FINAL.\n",
        "* INICIAL = (1,3)\n",
        "* FINAL = (19,19)\n",
        "\n",
        "Crea el array `posiciones_minimas` que en cada paso se actualiza y contiene la o las siguientes posiciones que llevan al jugador hasta la posición FINAL con el mínimo de pasos, recogidos en la variable `distancia_min`.\n",
        "\n",
        "Ambas variables se resetan en cada paso.\n",
        "\n",
        "Si el array `posiciones_minimas` contiene más de una posición se elige entre ellas de forma aleatoria."
      ],
      "metadata": {
        "id": "-nc9DmpY_fOg"
      }
    },
    {
      "cell_type": "code",
      "source": [
        "import random\n",
        "\n",
        "def imprimir(tablero):\n",
        "    for row in tablero:\n",
        "        print(*row)\n",
        "    print()\n",
        "\n",
        "def distancia(actual, FINAL):\n",
        "    return abs(FINAL[0]-actual[0]) + abs(FINAL[1]-actual[1])\n",
        "\n",
        "def siguiente(actual, FINAL):\n",
        "    posiciones_minimas = []\n",
        "    distancia_min = None\n",
        "    for movimiento in MOVIMIENTOS:\n",
        "        dx, dy = movimiento\n",
        "        new_position = (actual[0] + dx, actual[1] + dy)\n",
        "        new_distance = distancia(new_position, FINAL)\n",
        "        if distancia_min == None or new_distance < distancia_min:\n",
        "            distancia_min = new_distance\n",
        "            posiciones_minimas = [new_position]\n",
        "        elif new_distance == distancia_min:\n",
        "            posiciones_minimas.append(new_position)\n",
        "    return random.choice(posiciones_minimas)\n",
        "\n",
        "def find_path(tablero, INICIAL, FINAL):\n",
        "    actual = INICIAL\n",
        "    while actual != FINAL:\n",
        "        actual = siguiente(actual, FINAL)\n",
        "        tablero[actual[0]][actual[1]] = 'A'\n",
        "    imprimir(tablero)\n",
        "\n",
        "if __name__ == \"__main__\":\n",
        "    DIM = 20   # dimension\n",
        "    MOVIMIENTOS = [(0, 1), (0, -1), (1, 0), (-1, 0)]    # tuplas: Derecha, Izquierda, aBajo, Arriba\n",
        "    tablero = [['·']*DIM for _ in range(DIM)]\n",
        "    INICIAL = (1, 3)\n",
        "    FINAL = (19, 19)\n",
        "    tablero[INICIAL[0]][INICIAL[1]] = 'A'\n",
        "    find_path(tablero, INICIAL, FINAL)\n"
      ],
      "metadata": {
        "colab": {
          "base_uri": "https://localhost:8080/"
        },
        "id": "INI1GpQwT-Uz",
        "outputId": "782c1dae-6efd-4862-c7f4-19c6f1b26150"
      },
      "execution_count": 16,
      "outputs": [
        {
          "output_type": "stream",
          "name": "stdout",
          "text": [
            "· · · · · · · · · · · · · · · · · · · ·\n",
            "· · · A A A · · · · · · · · · · · · · ·\n",
            "· · · · · A A · · · · · · · · · · · · ·\n",
            "· · · · · · A A A A · · · · · · · · · ·\n",
            "· · · · · · · · · A A · · · · · · · · ·\n",
            "· · · · · · · · · · A · · · · · · · · ·\n",
            "· · · · · · · · · · A A A · · · · · · ·\n",
            "· · · · · · · · · · · · A A A · · · · ·\n",
            "· · · · · · · · · · · · · · A A · · · ·\n",
            "· · · · · · · · · · · · · · · A A A · ·\n",
            "· · · · · · · · · · · · · · · · · A A A\n",
            "· · · · · · · · · · · · · · · · · · · A\n",
            "· · · · · · · · · · · · · · · · · · · A\n",
            "· · · · · · · · · · · · · · · · · · · A\n",
            "· · · · · · · · · · · · · · · · · · · A\n",
            "· · · · · · · · · · · · · · · · · · · A\n",
            "· · · · · · · · · · · · · · · · · · · A\n",
            "· · · · · · · · · · · · · · · · · · · A\n",
            "· · · · · · · · · · · · · · · · · · · A\n",
            "· · · · · · · · · · · · · · · · · · · A\n",
            "\n"
          ]
        }
      ]
    }
  ]
}