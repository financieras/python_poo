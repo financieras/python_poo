{
  "nbformat": 4,
  "nbformat_minor": 0,
  "metadata": {
    "colab": {
      "provenance": [],
      "authorship_tag": "ABX9TyO8kfNm2BVzMJEvlykFo1jk",
      "include_colab_link": true
    },
    "kernelspec": {
      "name": "python3",
      "display_name": "Python 3"
    },
    "language_info": {
      "name": "python"
    }
  },
  "cells": [
    {
      "cell_type": "markdown",
      "metadata": {
        "id": "view-in-github",
        "colab_type": "text"
      },
      "source": [
        "<a href=\"https://colab.research.google.com/github/financieras/python_poo/blob/main/tablero/tablero7/movimientos.ipynb\" target=\"_parent\"><img src=\"https://colab.research.google.com/assets/colab-badge.svg\" alt=\"Open In Colab\"/></a>"
      ]
    },
    {
      "cell_type": "code",
      "execution_count": 11,
      "metadata": {
        "colab": {
          "base_uri": "https://localhost:8080/"
        },
        "id": "IBJlngUlAE4U",
        "outputId": "54865829-4837-4f52-8035-727b1d68958f"
      },
      "outputs": [
        {
          "output_type": "stream",
          "name": "stdout",
          "text": [
            "· · · · · ·\n",
            "· · · · X ·\n",
            "· · · · · ·\n",
            "· · · · · ·\n",
            "· · · · · ·\n",
            "· · · · · ·\n",
            "\n",
            "· · · · A ·\n",
            "· · · I X D\n",
            "· · · · B ·\n",
            "· · · · · ·\n",
            "· · · · · ·\n",
            "· · · · · ·\n",
            "\n"
          ]
        }
      ],
      "source": [
        "DIM = 6\n",
        "tablero = [['·']*DIM for _ in range(DIM)]\n",
        "\n",
        "(jugador_x, jugador_y) = (1, 4)\n",
        "\n",
        "tablero[jugador_x][jugador_y] = 'X'\n",
        "\n",
        "for row in tablero:\n",
        "    print(*row)\n",
        "print()\n",
        "\n",
        "movimientos = [(0, 1), (0, -1), (1, 0), (-1, 0)]    # tuplas: Derecha, Izquierda, Arriba, aBajo\n",
        "\n",
        "dx, dy = movimientos[0] # Derecha\n",
        "(nueva_x, nueva_y) = (jugador_x+dx, jugador_y+dy)\n",
        "tablero[nueva_x][nueva_y] = 'D'\n",
        "\n",
        "dx, dy = movimientos[1] # Izquierda\n",
        "(nueva_x, nueva_y) = (jugador_x+dx, jugador_y+dy)\n",
        "tablero[nueva_x][nueva_y] = 'I'\n",
        "\n",
        "dx, dy = movimientos[2] # aBajo\n",
        "(nueva_x, nueva_y) = (jugador_x+dx, jugador_y+dy)\n",
        "tablero[nueva_x][nueva_y] = 'B'\n",
        "\n",
        "dx, dy = movimientos[3] # Arriba\n",
        "(nueva_x, nueva_y) = (jugador_x+dx, jugador_y+dy)\n",
        "tablero[nueva_x][nueva_y] = 'A'\n",
        "\n",
        "for row in tablero:\n",
        "    print(*row)\n",
        "print()"
      ]
    }
  ]
}