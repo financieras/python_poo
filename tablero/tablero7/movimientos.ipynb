{
  "nbformat": 4,
  "nbformat_minor": 0,
  "metadata": {
    "colab": {
      "provenance": [],
      "authorship_tag": "ABX9TyPsHdrWc9uQDkVdMhT66tVw",
      "include_colab_link": true
    },
    "kernelspec": {
      "name": "python3",
      "display_name": "Python 3"
    },
    "language_info": {
      "name": "python"
    }
  },
  "cells": [
    {
      "cell_type": "markdown",
      "metadata": {
        "id": "view-in-github",
        "colab_type": "text"
      },
      "source": [
        "<a href=\"https://colab.research.google.com/github/financieras/python_poo/blob/main/tablero/tablero7/movimientos.ipynb\" target=\"_parent\"><img src=\"https://colab.research.google.com/assets/colab-badge.svg\" alt=\"Open In Colab\"/></a>"
      ]
    },
    {
      "cell_type": "code",
      "execution_count": 4,
      "metadata": {
        "colab": {
          "base_uri": "https://localhost:8080/"
        },
        "id": "IBJlngUlAE4U",
        "outputId": "294bbc06-192a-49c3-a660-67f067db4885"
      },
      "outputs": [
        {
          "output_type": "stream",
          "name": "stdout",
          "text": [
            "· · · · · ·\n",
            "· · · · X ·\n",
            "· · · · · ·\n",
            "· · · · · ·\n",
            "· · · · · ·\n",
            "· · · · · ·\n",
            "\n",
            "· · · · A ·\n",
            "· · · I X D\n",
            "· · · · B ·\n",
            "· · · · · ·\n",
            "· · · · · ·\n",
            "· · · · · ·\n",
            "\n"
          ]
        }
      ],
      "source": [
        "DIM = 6\n",
        "tablero = [['·']*DIM for _ in range(DIM)]\n",
        "\n",
        "(jugador_x, jugador_y) = (1, 4)\n",
        "\n",
        "tablero[jugador_x][jugador_y] = 'X'\n",
        "\n",
        "for row in tablero:\n",
        "    print(*row)\n",
        "print()\n",
        "\n",
        "    # tuplas: Derecha, Izquierda, aBajo, Arriba\n",
        "movimientos = [(0, 1), (0, -1), (1, 0), (-1, 0)]\n",
        "\n",
        "dx, dy = movimientos[0] # Derecha\n",
        "(nueva_x, nueva_y) = (jugador_x+dx, jugador_y+dy)\n",
        "tablero[nueva_x][nueva_y] = 'D'\n",
        "\n",
        "dx, dy = movimientos[1] # Izquierda\n",
        "(nueva_x, nueva_y) = (jugador_x+dx, jugador_y+dy)\n",
        "tablero[nueva_x][nueva_y] = 'I'\n",
        "\n",
        "dx, dy = movimientos[2] # aBajo\n",
        "(nueva_x, nueva_y) = (jugador_x+dx, jugador_y+dy)\n",
        "tablero[nueva_x][nueva_y] = 'B'\n",
        "\n",
        "dx, dy = movimientos[3] # Arriba\n",
        "(nueva_x, nueva_y) = (jugador_x+dx, jugador_y+dy)\n",
        "tablero[nueva_x][nueva_y] = 'A'\n",
        "\n",
        "for row in tablero:\n",
        "    print(*row)\n",
        "print()"
      ]
    },
    {
      "cell_type": "code",
      "source": [
        "from random import randint\n",
        "\n",
        "MOVIMIENTOS = [(0, 1), (0, -1), (1, 0), (-1, 0)]    # tuplas: Derecha, Izquierda, Arriba, aBajo\n",
        "\n",
        "libertades = [True, True, False, True]\n",
        "def elige(libertades):\n",
        "    while True:\n",
        "        dado = randint(0,3) # dado de 4 caras para determinar aleatoriamente uno de los 4 movimientos\n",
        "        print(dado)\n",
        "        if libertades[dado]:    # solo es True si se elige un movimiento válido\n",
        "            return MOVIMIENTOS[dado]    # retorna la tupla con el movimiento elegido\n",
        "\n",
        "elige(libertades)"
      ],
      "metadata": {
        "id": "a-vNfusU-XmN",
        "outputId": "a2dcf909-cd48-43bc-a3b9-8f3c07facb9f",
        "colab": {
          "base_uri": "https://localhost:8080/"
        }
      },
      "execution_count": 3,
      "outputs": [
        {
          "output_type": "stream",
          "name": "stdout",
          "text": [
            "2\n",
            "2\n",
            "1\n"
          ]
        },
        {
          "output_type": "execute_result",
          "data": {
            "text/plain": [
              "(0, -1)"
            ]
          },
          "metadata": {},
          "execution_count": 3
        }
      ]
    }
  ]
}