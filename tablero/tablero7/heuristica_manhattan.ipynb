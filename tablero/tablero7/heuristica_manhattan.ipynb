{
  "nbformat": 4,
  "nbformat_minor": 0,
  "metadata": {
    "colab": {
      "provenance": [],
      "authorship_tag": "ABX9TyPwfPHobDmkvn57YLl7FHgt",
      "include_colab_link": true
    },
    "kernelspec": {
      "name": "python3",
      "display_name": "Python 3"
    },
    "language_info": {
      "name": "python"
    }
  },
  "cells": [
    {
      "cell_type": "markdown",
      "metadata": {
        "id": "view-in-github",
        "colab_type": "text"
      },
      "source": [
        "<a href=\"https://colab.research.google.com/github/financieras/python_poo/blob/main/tablero/tablero7/heuristica_manhattan.ipynb\" target=\"_parent\"><img src=\"https://colab.research.google.com/assets/colab-badge.svg\" alt=\"Open In Colab\"/></a>"
      ]
    },
    {
      "cell_type": "markdown",
      "source": [
        "# Heurística de la distancia Manhattan\n",
        "El camino más corto para moverse en un tablero de ajedrez."
      ],
      "metadata": {
        "id": "EByXMciaK0OL"
      }
    },
    {
      "cell_type": "code",
      "source": [
        "def a_star(start, goal, board):\n",
        "    # Definir la función heurística\n",
        "    def heuristic(a, b):\n",
        "        return abs(a[0] - b[0]) + abs(a[1] - b[1])\n",
        "\n",
        "    # Definir los movimientos posibles\n",
        "    moves = [(0, 1), (0, -1), (1, 0), (-1, 0)]\n",
        "\n",
        "    # Inicializar las listas abierta y cerrada\n",
        "    open_list = [start] # celdas que se están explorando\n",
        "    closed_list = []    # celdas que ya han sido exploradas\n",
        "\n",
        "    # Inicializar los valores g y f de la posición inicial\n",
        "    g = {start: 0}  #  costo real del movimiento desde la posición inicial hasta la celda actual\n",
        "    f = {start: heuristic(start, goal)} #  costo estimado desde la posición inicial hasta la posición objetivo pasando por la celda actual\n",
        "\n",
        "    # Inicializar el diccionario came_from\n",
        "    came_from = {}  #  almacena el camino más corto desde la posición inicial hasta cada celda explorada\n",
        "\n",
        "    while open_list:\n",
        "        # Obtener la celda con menor valor f en la lista abierta\n",
        "        current = min(open_list, key=lambda x: f[x])\n",
        "\n",
        "        # Si se ha llegado a la posición objetivo, devolver el camino\n",
        "        if current == goal:\n",
        "            path = []\n",
        "            while current in came_from:\n",
        "                path.append(current)\n",
        "                current = came_from[current]\n",
        "            path.append(start)\n",
        "            return path[::-1]\n",
        "\n",
        "        # Moverse a las celdas vecinas\n",
        "        open_list.remove(current)\n",
        "        closed_list.append(current)\n",
        "        for move in moves:\n",
        "            neighbor = (current[0] + move[0], current[1] + move[1])\n",
        "            if neighbor in closed_list or neighbor not in board:\n",
        "                continue\n",
        "            tentative_g = g[current] + 1\n",
        "            if neighbor not in open_list:\n",
        "                open_list.append(neighbor)\n",
        "            elif tentative_g >= g[neighbor]:\n",
        "                continue\n",
        "\n",
        "            # Actualizar los valores g y f de la celda vecina\n",
        "            came_from[neighbor] = current\n",
        "            g[neighbor] = tentative_g\n",
        "            f[neighbor] = tentative_g + heuristic(neighbor, goal)\n",
        "\n",
        "    # Si no se ha encontrado un camino válido, devolver None\n",
        "    return None\n",
        "\n",
        "# Ejemplo de uso\n",
        "n = 10  # Tamaño del tablero\n",
        "board = {(i, j): 'empty' for i in range(n) for j in range(n)}\n",
        "player_pos = (1, 1)  # Posición inicial del jugador\n",
        "food_pos = (7, 9)  # Posición de la comida\n",
        "\n",
        "path = a_star(player_pos, food_pos, board)\n",
        "print(path)"
      ],
      "metadata": {
        "colab": {
          "base_uri": "https://localhost:8080/"
        },
        "id": "HdvkUcc73qwS",
        "outputId": "5092d20d-5ca0-48f4-b62c-b46228e88341"
      },
      "execution_count": 10,
      "outputs": [
        {
          "output_type": "stream",
          "name": "stdout",
          "text": [
            "[(1, 1), (1, 2), (1, 3), (1, 4), (1, 5), (1, 6), (1, 7), (1, 8), (1, 9), (2, 9), (3, 9), (4, 9), (5, 9), (6, 9), (7, 9)]\n"
          ]
        }
      ]
    }
  ]
}