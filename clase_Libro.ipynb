{
  "nbformat": 4,
  "nbformat_minor": 0,
  "metadata": {
    "colab": {
      "provenance": [],
      "authorship_tag": "ABX9TyN/pdtkPlzJCexJh6x9AieE",
      "include_colab_link": true
    },
    "kernelspec": {
      "name": "python3",
      "display_name": "Python 3"
    },
    "language_info": {
      "name": "python"
    }
  },
  "cells": [
    {
      "cell_type": "markdown",
      "metadata": {
        "id": "view-in-github",
        "colab_type": "text"
      },
      "source": [
        "<a href=\"https://colab.research.google.com/github/financieras/python_poo/blob/main/clase_Libro.ipynb\" target=\"_parent\"><img src=\"https://colab.research.google.com/assets/colab-badge.svg\" alt=\"Open In Colab\"/></a>"
      ]
    },
    {
      "cell_type": "markdown",
      "source": [
        "# La clase `Libro`\n",
        "1. Imagina que estás desarrollando un programa para administrar una biblioteca.\n",
        "2. Crea una clase llamada `Libro` que represente un libro en la biblioteca.\n",
        "3. Cada libro debe tener las siguientes propiedades:\n",
        " - 3.1. Título: una cadena de texto que representa el título del libro.\n",
        " - 3.2. Autor: una cadena de texto que representa el autor del libro.\n",
        " - 3.3 Año de publicación: un número entero que representa el año en que se publicó el libro.\n",
        "4. La clase \"Libro\" debe tener los siguientes métodos:\n",
        " - `get_titulo()`: devuelve el título del libro.\n",
        " - `get_autor()`: devuelve el autor del libro.\n",
        " - `get_anio()`: devuelve el año de publicación del libro.\n",
        "\n",
        "5. Además, la clase `Libro` debe tener un método llamado `mostrar_informacion()` que imprima por pantalla la información completa del libro en el siguiente formato:\n",
        " - \"Título: [título del libro], Autor: [autor del libro], Año de publicación: [año de publicación del libro]\".\n",
        "6. Tu tarea es implementar la clase `Libro` con sus propiedades y métodos, y luego crear tres instancias de la clase para probar su funcionamiento."
      ],
      "metadata": {
        "id": "a7jhY8qaLhaT"
      }
    },
    {
      "cell_type": "code",
      "execution_count": 1,
      "metadata": {
        "colab": {
          "base_uri": "https://localhost:8080/"
        },
        "id": "uAknP5lnLgcd",
        "outputId": "9f6078ef-2ff8-4246-8bfa-aff8d3095de5"
      },
      "outputs": [
        {
          "output_type": "stream",
          "name": "stdout",
          "text": [
            "Sinuhé el egipcio\n",
            "Cervantes\n",
            "Título: El Quijote, Autor: Cervantes, Año de publicación: 1605\n",
            "Título: 1984, Autor: George Orwell, Año de publicación: 1949\n",
            "Título: Sinuhé el egipcio, Autor: Mika Waltari, Año de publicación: 1945\n"
          ]
        }
      ],
      "source": [
        "class Libro:\n",
        "    def __init__(self, titulo, autor, anio):\n",
        "        self.__titulo = titulo  # con los 2 guiones bajos ocultamos el atributo\n",
        "        self.__autor = autor\n",
        "        self.__anio = anio\n",
        "\n",
        "    def get_titulo(self):\n",
        "        return self.__titulo\n",
        "\n",
        "    def get_autor(self):\n",
        "        return self.__autor\n",
        "\n",
        "    def get_anio(self):\n",
        "        return self.__anio\n",
        "\n",
        "    def mostrar_informacion(self):\n",
        "        print(f\"Título: {self.get_titulo()}, Autor: {self.get_autor()}, Año de publicación: {self.get_anio()}\")\n",
        "        #print(f\"Título: {self.__titulo}, Autor: {self.__autor}, Año de publicación: {self.__anio}\")\n",
        "\n",
        "# Crear instancias de la clase Libro\n",
        "libro1 = Libro(\"El Quijote\", \"Cervantes\", 1605)\n",
        "libro2 = Libro(\"1984\", \"George Orwell\", 1949)\n",
        "libro3 = Libro(\"Sinuhé el egipcio\", \"Mika Waltari\", 1945)\n",
        "\n",
        "# Probar los métodos de las instancias\n",
        "print(libro3.get_titulo())  # Output: El Gran Gatsby\n",
        "print(libro1.get_autor())\n",
        "\n",
        "# Mostrar la información completa de los libros\n",
        "libro1.mostrar_informacion()\n",
        "libro2.mostrar_informacion()\n",
        "libro3.mostrar_informacion()"
      ]
    }
  ]
}