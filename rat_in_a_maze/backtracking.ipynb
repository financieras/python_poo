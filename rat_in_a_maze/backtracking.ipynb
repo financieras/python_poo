{
  "nbformat": 4,
  "nbformat_minor": 0,
  "metadata": {
    "colab": {
      "provenance": [],
      "authorship_tag": "ABX9TyOC3QpbB5apmTIavyTVo6nD",
      "include_colab_link": true
    },
    "kernelspec": {
      "name": "python3",
      "display_name": "Python 3"
    },
    "language_info": {
      "name": "python"
    }
  },
  "cells": [
    {
      "cell_type": "markdown",
      "metadata": {
        "id": "view-in-github",
        "colab_type": "text"
      },
      "source": [
        "<a href=\"https://colab.research.google.com/github/financieras/python_poo/blob/main/rat_in_a_maze/backtracking.ipynb\" target=\"_parent\"><img src=\"https://colab.research.google.com/assets/colab-badge.svg\" alt=\"Open In Colab\"/></a>"
      ]
    },
    {
      "cell_type": "markdown",
      "source": [
        "# Algoritmo de Backtracking\n",
        "* Aplicado a la búsqueda de un objetivo.\n",
        "* Dada una lista de números determinar las sublistas que llegan a sumar un valor determinadado.\n",
        "* https://youtu.be/ip2jC_kXGtg"
      ],
      "metadata": {
        "id": "Oi8raAGQHkXH"
      }
    },
    {
      "cell_type": "code",
      "execution_count": null,
      "metadata": {
        "colab": {
          "base_uri": "https://localhost:8080/"
        },
        "id": "yjX1JLwgETH6",
        "outputId": "af75445a-1889-4a18-a72e-0cafb158489c"
      },
      "outputs": [
        {
          "output_type": "stream",
          "name": "stdout",
          "text": [
            "[[1, 1, 1, 1, 1], [1, 1, 1, 2], [1, 1, 3], [1, 2, 2], [1, 4], [2, 3]]\n"
          ]
        }
      ],
      "source": [
        "def backtrack_suma(numeros, objetivo):\n",
        "    def backtrack(remain, comb, start):\n",
        "        if remain == 0:\n",
        "            result.append(list(comb))\n",
        "            return\n",
        "        elif remain < 0:\n",
        "            return\n",
        "        for i in range(start, len(numeros)):\n",
        "            comb.append(numeros[i])\n",
        "            backtrack(remain - numeros[i], comb, i)\n",
        "            comb.pop()\n",
        "\n",
        "    result = []\n",
        "    backtrack(objetivo, [], 0)\n",
        "    return result\n",
        "\n",
        "numeros = [1, 2, 3, 4]      # numeros es una lista de números disponibles\n",
        "objetivo = 5                # objetivo es el número a cuya suma se ha de llegar\n",
        "print(backtrack_suma(numeros, objetivo))"
      ]
    },
    {
      "cell_type": "markdown",
      "source": [
        "## Sin repetición\n",
        "1. La función `backtrack_suma` toma dos argumentos: una lista de números y un objetivo.\n",
        " * La función utiliza una función interna llamada `backtrack` que realiza la búsqueda real.\n",
        " * La función `backtrack` toma tres argumentos: el número restante que se debe sumar para alcanzar el objetivo (`remain`), una lista de números que se han sumado hasta ahora (`comb`) y el índice del número en la lista original desde el cual comenzar a buscar (`start`).\n",
        " * La función `backtrack` utiliza un bucle `for` para iterar sobre los números restantes en la lista y se llama a sí misma recursivamente para buscar todas las combinaciones posibles de números que sumen el valor restante.\n",
        "\n",
        "2. La modificación que se ha realizado en esta versión del código es que se ha añadido una comprobación para evitar valores repetidos en la solución.\n",
        " * La comprobación se realiza en la línea 9 del código.\n",
        " * Si el número actual es igual al número anterior, se omite y se pasa al siguiente número.\n",
        "\n",
        "3. La línea 15 del código ordena la lista de números para asegurarse de que los números repetidos estén juntos."
      ],
      "metadata": {
        "id": "RdJ_CxDFFf92"
      }
    },
    {
      "cell_type": "code",
      "source": [
        "def backtrack_suma(numeros, objetivo):\n",
        "    def backtrack(remain, comb, start):\n",
        "        if remain == 0:\n",
        "            result.append(list(comb))\n",
        "            return\n",
        "        elif remain < 0:\n",
        "            return\n",
        "        for i in range(start, len(numeros)):\n",
        "            if i > start and numeros[i] == numeros[i-1]:\n",
        "                continue\n",
        "            comb.append(numeros[i])\n",
        "            backtrack(remain - numeros[i], comb, i + 1)\n",
        "            comb.pop()\n",
        "\n",
        "    numeros.sort()\n",
        "    result = []\n",
        "    backtrack(objetivo, [], 0)\n",
        "    return result\n",
        "\n",
        "numeros = [1, 2, 3, 4, 5, 6, 7, 8, 9]\n",
        "objetivo = 10\n",
        "print(backtrack_suma(numeros, objetivo))"
      ],
      "metadata": {
        "colab": {
          "base_uri": "https://localhost:8080/"
        },
        "id": "kBRNXH8XFGFy",
        "outputId": "4e3d15b7-f1b1-4e60-ce47-9f147ee3e5a4"
      },
      "execution_count": null,
      "outputs": [
        {
          "output_type": "stream",
          "name": "stdout",
          "text": [
            "[[1, 2, 3, 4], [1, 2, 7], [1, 3, 6], [1, 4, 5], [1, 9], [2, 3, 5], [2, 8], [3, 7], [4, 6]]\n"
          ]
        }
      ]
    },
    {
      "cell_type": "markdown",
      "source": [
        "# Rat in a Maze"
      ],
      "metadata": {
        "id": "dYIfh9Z3uPY5"
      }
    },
    {
      "cell_type": "code",
      "source": [
        "# Python3 program to solve Rat in a Maze\n",
        "# problem using backtracking\n",
        "\n",
        "# Maze size\n",
        "n = 5\n",
        "\n",
        "# A utility function to check if x, y is valid\n",
        "# index for N * N Maze\n",
        "def isValid(n, maze, x, y, res):\n",
        "\tif x >= 0 and y >= 0 and x < n and y < n and maze[x][y] == 1 and res[x][y] == 0:\n",
        "\t\treturn True\n",
        "\treturn False\n",
        "\n",
        "# A recursive utility function to solve Maze problem\n",
        "def RatMaze(n, maze, move_x, move_y, x, y, res):\n",
        "\t# if (x, y is goal) return True\n",
        "\tif x == n-1 and y == n-1:\n",
        "\t\treturn True\n",
        "\tfor i in range(4):\n",
        "\t\t# Generate new value of x\n",
        "\t\tx_new = x + move_x[i]\n",
        "\n",
        "\t\t# Generate new value of y\n",
        "\t\ty_new = y + move_y[i]\n",
        "\n",
        "\t\t# Check if maze[x][y] is valid\n",
        "\t\tif isValid(n, maze, x_new, y_new, res):\n",
        "\n",
        "\t\t\t# mark x, y as part of solution path\n",
        "\t\t\tres[x_new][y_new] = 1\n",
        "\t\t\tif RatMaze(n, maze, move_x, move_y, x_new, y_new, res):\n",
        "\t\t\t\treturn True\n",
        "\t\t\tres[x_new][y_new] = 0\n",
        "\treturn False\n",
        "\n",
        "\n",
        "def solveMaze(maze):\n",
        "\t# Creating a 4 * 4 2-D list\n",
        "\tres = [[0 for i in range(n)] for i in range(n)]\n",
        "\tres[0][0] = 1\n",
        "\n",
        "\t# x matrix for each direction\n",
        "\tmove_x = [-1, 1, 0, 0]\n",
        "\n",
        "\t# y matrix for each direction\n",
        "\tmove_y = [0, 0, -1, 1]\n",
        "\n",
        "\tif RatMaze(n, maze, move_x, move_y, 0, 0, res):\n",
        "\t\tfor i in range(n):\n",
        "\t\t\tfor j in range(n):\n",
        "\t\t\t\tprint(res[i][j], end=' ')\n",
        "\t\t\tprint()\n",
        "\telse:\n",
        "\t\tprint('Solution does not exist')\n",
        "\n",
        "\n",
        "# Driver program to test above function\n",
        "if __name__ == \"__main__\":\n",
        "\t# Initialising the maze\n",
        "\tmaze = [[1, 0, 1, 1, 1],\n",
        "\t\t\t[1, 1, 1, 0, 1],\n",
        "\t\t\t[0, 1, 0, 1, 1],\n",
        "\t\t\t[1, 1, 0, 1, 0],\n",
        "            [1, 0, 1, 1, 1]]\n",
        "\n",
        "\tsolveMaze(maze)"
      ],
      "metadata": {
        "id": "gAd3rLIYuWAB",
        "outputId": "99e3d10f-e083-4f5d-cb9c-d6e6561125c7",
        "colab": {
          "base_uri": "https://localhost:8080/"
        }
      },
      "execution_count": null,
      "outputs": [
        {
          "output_type": "stream",
          "name": "stdout",
          "text": [
            "1 0 1 1 1 \n",
            "1 1 1 0 1 \n",
            "0 0 0 1 1 \n",
            "0 0 0 1 0 \n",
            "0 0 0 1 1 \n"
          ]
        }
      ]
    },
    {
      "cell_type": "code",
      "source": [
        "pip install colorama"
      ],
      "metadata": {
        "id": "s7Iutltg1_F9",
        "outputId": "f715fea9-77ef-4f08-8bb8-14ceb5aeeffa",
        "colab": {
          "base_uri": "https://localhost:8080/"
        }
      },
      "execution_count": null,
      "outputs": [
        {
          "output_type": "stream",
          "name": "stdout",
          "text": [
            "Collecting colorama\n",
            "  Downloading colorama-0.4.6-py2.py3-none-any.whl (25 kB)\n",
            "Installing collected packages: colorama\n",
            "Successfully installed colorama-0.4.6\n"
          ]
        }
      ]
    },
    {
      "cell_type": "code",
      "source": [
        "from colorama import Fore\n",
        "\n",
        "\n",
        "def get_starting_finishing_points():\n",
        "    _start = [i for i in range(len(maze[0])) if maze[0][i] == 'c']\n",
        "    _end = [i for i in range(len(maze[0])) if maze[len(maze)-1][i] == 'c']\n",
        "    return [0, _start[0]], [len(maze) - 1, _end[0]]\n",
        "\n",
        "\n",
        "def print_maze():\n",
        "    for i in range(0, len(maze)):\n",
        "        for j in range(0, len(maze[0])):\n",
        "            if maze[i][j] == 'u':\n",
        "                print(Fore.WHITE, f'{maze[i][j]}', end=\" \")\n",
        "            elif maze[i][j] == 'c':\n",
        "                print(Fore.GREEN, f'{maze[i][j]}', end=\" \")\n",
        "            elif maze[i][j] == 'p':\n",
        "                print(Fore.BLUE, f'{maze[i][j]}', end=\" \")\n",
        "            else:\n",
        "                print(Fore.RED, f'{maze[i][j]}', end=\" \")\n",
        "        print('\\n')\n",
        "\n",
        "\n",
        "def escape():\n",
        "    current_cell = rat_path[len(rat_path) - 1]\n",
        "\n",
        "    if current_cell == finish:\n",
        "        return\n",
        "\n",
        "    if maze[current_cell[0] + 1][current_cell[1]] == 'c':\n",
        "        maze[current_cell[0] + 1][current_cell[1]] = 'p'\n",
        "        rat_path.append([current_cell[0] + 1, current_cell[1]])\n",
        "        escape()\n",
        "\n",
        "    if maze[current_cell[0]][current_cell[1] + 1] == 'c':\n",
        "        maze[current_cell[0]][current_cell[1] + 1] = 'p'\n",
        "        rat_path.append([current_cell[0], current_cell[1] + 1])\n",
        "        escape()\n",
        "\n",
        "    if maze[current_cell[0] - 1][current_cell[1]] == 'c':\n",
        "        maze[current_cell[0] - 1][current_cell[1]] = 'p'\n",
        "        rat_path.append([current_cell[0] - 1, current_cell[1]])\n",
        "        escape()\n",
        "\n",
        "    if maze[current_cell[0]][current_cell[1] - 1] == 'c':\n",
        "        maze[current_cell[0]][current_cell[1] - 1] = 'p'\n",
        "        rat_path.append([current_cell[0], current_cell[1] - 1])\n",
        "        escape()\n",
        "\n",
        "    # If we get here, this means that we made a wrong decision, so we need to\n",
        "    # backtrack\n",
        "    current_cell = rat_path[len(rat_path) - 1]\n",
        "    if current_cell != finish:\n",
        "        cell_to_remove = rat_path[len(rat_path) - 1]\n",
        "        rat_path.remove(cell_to_remove)\n",
        "        maze[cell_to_remove[0]][cell_to_remove[1]] = 'c'\n",
        "\n",
        "\n",
        "if __name__ == '__main__':\n",
        "    maze = [\n",
        "        ['w', 'c', 'w', 'w', 'w', 'w', 'w', 'w', 'w', 'w', 'w', 'w', 'w', 'w',\n",
        "         'w', 'w', 'w', 'w', 'w', 'w', 'w', 'w', 'w', 'w', 'w', 'w', 'w'],\n",
        "        ['w', 'c', 'c', 'w', 'c', 'w', 'c', 'c', 'w', 'w', 'c', 'c', 'c', 'c',\n",
        "         'c', 'w', 'w', 'c', 'w', 'w', 'c', 'c', 'c', 'c', 'c', 'c', 'w'],\n",
        "        ['w', 'w', 'c', 'w', 'c', 'c', 'c', 'w', 'w', 'w', 'w', 'w', 'w', 'w',\n",
        "         'c', 'c', 'c', 'c', 'c', 'w', 'w', 'w', 'w', 'w', 'w', 'c', 'w'],\n",
        "        ['w', 'c', 'c', 'c', 'c', 'w', 'c', 'c', 'c', 'c', 'c', 'c', 'c', 'c',\n",
        "         'c', 'w', 'c', 'w', 'c', 'c', 'c', 'c', 'c', 'c', 'c', 'c', 'w'],\n",
        "        ['w', 'w', 'w', 'c', 'w', 'w', 'c', 'w', 'c', 'w', 'c', 'w', 'w', 'w',\n",
        "         'w', 'w', 'w', 'w', 'w', 'w', 'w', 'c', 'w', 'w', 'w', 'c', 'w'],\n",
        "        ['w', 'c', 'c', 'c', 'c', 'w', 'w', 'w', 'w', 'w', 'w', 'w', 'w', 'c',\n",
        "         'c', 'c', 'c', 'c', 'c', 'c', 'c', 'c', 'w', 'c', 'c', 'c', 'w'],\n",
        "        ['w', 'c', 'w', 'c', 'w', 'w', 'w', 'w', 'c', 'c', 'w', 'c', 'w', 'w',\n",
        "         'w', 'c', 'w', 'w', 'w', 'w', 'w', 'w', 'w', 'w', 'w', 'c', 'w'],\n",
        "        ['w', 'w', 'w', 'w', 'w', 'w', 'c', 'w', 'w', 'c', 'c', 'c', 'w', 'c',\n",
        "         'w', 'w', 'w', 'w', 'w', 'w', 'c', 'c', 'c', 'c', 'c', 'c', 'w'],\n",
        "        ['w', 'c', 'c', 'c', 'c', 'c', 'c', 'w', 'w', 'w', 'w', 'c', 'w', 'c',\n",
        "         'c', 'c', 'c', 'c', 'c', 'c', 'c', 'w', 'c', 'w', 'c', 'w', 'w'],\n",
        "        ['w', 'w', 'c', 'w', 'c', 'w', 'c', 'c', 'c', 'c', 'c', 'c', 'c', 'c',\n",
        "         'w', 'w', 'c', 'w', 'c', 'w', 'c', 'w', 'c', 'w', 'c', 'c', 'w'],\n",
        "        ['w', 'w', 'w', 'w', 'w', 'w', 'w', 'w', 'w', 'w', 'w', 'w', 'w', 'w',\n",
        "         'w', 'w', 'w', 'w', 'w', 'w', 'w', 'w', 'w', 'w', 'w', 'c', 'w']\n",
        "    ]\n",
        "\n",
        "    start, finish = get_starting_finishing_points()\n",
        "    maze[start[0]][start[1]] = 'p'\n",
        "\n",
        "    rat_path = [start]\n",
        "    escape()\n",
        "    print_maze()"
      ],
      "metadata": {
        "id": "eXYBM34S13oz",
        "outputId": "3d4ad062-f0b6-4c6f-def6-3badd118763e",
        "colab": {
          "base_uri": "https://localhost:8080/"
        }
      },
      "execution_count": null,
      "outputs": [
        {
          "output_type": "stream",
          "name": "stdout",
          "text": [
            "\u001b[31m w \u001b[34m p \u001b[31m w \u001b[31m w \u001b[31m w \u001b[31m w \u001b[31m w \u001b[31m w \u001b[31m w \u001b[31m w \u001b[31m w \u001b[31m w \u001b[31m w \u001b[31m w \u001b[31m w \u001b[31m w \u001b[31m w \u001b[31m w \u001b[31m w \u001b[31m w \u001b[31m w \u001b[31m w \u001b[31m w \u001b[31m w \u001b[31m w \u001b[31m w \u001b[31m w \n",
            "\n",
            "\u001b[31m w \u001b[34m p \u001b[34m p \u001b[31m w \u001b[32m c \u001b[31m w \u001b[32m c \u001b[32m c \u001b[31m w \u001b[31m w \u001b[32m c \u001b[32m c \u001b[32m c \u001b[32m c \u001b[32m c \u001b[31m w \u001b[31m w \u001b[32m c \u001b[31m w \u001b[31m w \u001b[32m c \u001b[32m c \u001b[32m c \u001b[32m c \u001b[32m c \u001b[32m c \u001b[31m w \n",
            "\n",
            "\u001b[31m w \u001b[31m w \u001b[34m p \u001b[31m w \u001b[34m p \u001b[34m p \u001b[34m p \u001b[31m w \u001b[31m w \u001b[31m w \u001b[31m w \u001b[31m w \u001b[31m w \u001b[31m w \u001b[34m p \u001b[34m p \u001b[34m p \u001b[34m p \u001b[34m p \u001b[31m w \u001b[31m w \u001b[31m w \u001b[31m w \u001b[31m w \u001b[31m w \u001b[32m c \u001b[31m w \n",
            "\n",
            "\u001b[31m w \u001b[32m c \u001b[34m p \u001b[34m p \u001b[34m p \u001b[31m w \u001b[34m p \u001b[34m p \u001b[34m p \u001b[34m p \u001b[34m p \u001b[34m p \u001b[34m p \u001b[34m p \u001b[34m p \u001b[31m w \u001b[32m c \u001b[31m w \u001b[34m p \u001b[34m p \u001b[34m p \u001b[34m p \u001b[34m p \u001b[34m p \u001b[34m p \u001b[34m p \u001b[31m w \n",
            "\n",
            "\u001b[31m w \u001b[31m w \u001b[31m w \u001b[32m c \u001b[31m w \u001b[31m w \u001b[32m c \u001b[31m w \u001b[32m c \u001b[31m w \u001b[32m c \u001b[31m w \u001b[31m w \u001b[31m w \u001b[31m w \u001b[31m w \u001b[31m w \u001b[31m w \u001b[31m w \u001b[31m w \u001b[31m w \u001b[32m c \u001b[31m w \u001b[31m w \u001b[31m w \u001b[34m p \u001b[31m w \n",
            "\n",
            "\u001b[31m w \u001b[32m c \u001b[32m c \u001b[32m c \u001b[32m c \u001b[31m w \u001b[31m w \u001b[31m w \u001b[31m w \u001b[31m w \u001b[31m w \u001b[31m w \u001b[31m w \u001b[32m c \u001b[32m c \u001b[32m c \u001b[32m c \u001b[32m c \u001b[32m c \u001b[32m c \u001b[32m c \u001b[32m c \u001b[31m w \u001b[32m c \u001b[32m c \u001b[34m p \u001b[31m w \n",
            "\n",
            "\u001b[31m w \u001b[32m c \u001b[31m w \u001b[32m c \u001b[31m w \u001b[31m w \u001b[31m w \u001b[31m w \u001b[32m c \u001b[32m c \u001b[31m w \u001b[32m c \u001b[31m w \u001b[31m w \u001b[31m w \u001b[32m c \u001b[31m w \u001b[31m w \u001b[31m w \u001b[31m w \u001b[31m w \u001b[31m w \u001b[31m w \u001b[31m w \u001b[31m w \u001b[34m p \u001b[31m w \n",
            "\n",
            "\u001b[31m w \u001b[31m w \u001b[31m w \u001b[31m w \u001b[31m w \u001b[31m w \u001b[32m c \u001b[31m w \u001b[31m w \u001b[32m c \u001b[32m c \u001b[32m c \u001b[31m w \u001b[32m c \u001b[31m w \u001b[31m w \u001b[31m w \u001b[31m w \u001b[31m w \u001b[31m w \u001b[32m c \u001b[32m c \u001b[32m c \u001b[32m c \u001b[34m p \u001b[34m p \u001b[31m w \n",
            "\n",
            "\u001b[31m w \u001b[32m c \u001b[32m c \u001b[32m c \u001b[32m c \u001b[32m c \u001b[32m c \u001b[31m w \u001b[31m w \u001b[31m w \u001b[31m w \u001b[32m c \u001b[31m w \u001b[32m c \u001b[32m c \u001b[32m c \u001b[32m c \u001b[32m c \u001b[32m c \u001b[32m c \u001b[32m c \u001b[31m w \u001b[32m c \u001b[31m w \u001b[34m p \u001b[31m w \u001b[31m w \n",
            "\n",
            "\u001b[31m w \u001b[31m w \u001b[32m c \u001b[31m w \u001b[32m c \u001b[31m w \u001b[32m c \u001b[32m c \u001b[32m c \u001b[32m c \u001b[32m c \u001b[32m c \u001b[32m c \u001b[32m c \u001b[31m w \u001b[31m w \u001b[32m c \u001b[31m w \u001b[32m c \u001b[31m w \u001b[32m c \u001b[31m w \u001b[32m c \u001b[31m w \u001b[34m p \u001b[34m p \u001b[31m w \n",
            "\n",
            "\u001b[31m w \u001b[31m w \u001b[31m w \u001b[31m w \u001b[31m w \u001b[31m w \u001b[31m w \u001b[31m w \u001b[31m w \u001b[31m w \u001b[31m w \u001b[31m w \u001b[31m w \u001b[31m w \u001b[31m w \u001b[31m w \u001b[31m w \u001b[31m w \u001b[31m w \u001b[31m w \u001b[31m w \u001b[31m w \u001b[31m w \u001b[31m w \u001b[31m w \u001b[34m p \u001b[31m w \n",
            "\n"
          ]
        }
      ]
    },
    {
      "cell_type": "markdown",
      "source": [
        "## Solución completa Rat in a Maze"
      ],
      "metadata": {
        "id": "kJwMcejaP1gy"
      }
    },
    {
      "cell_type": "code",
      "source": [
        "N = 8   # tamaño de la matriz del laberinto\n",
        "#problema del laberinto\n",
        "laberinto = [\n",
        "    [0,1,0,0,0,0,0,0],\n",
        "    [0,1,0,1,0,1,0,0],\n",
        "    [0,1,0,1,0,1,0,1],\n",
        "    [0,0,0,1,0,0,0,1],\n",
        "    [1,1,1,1,0,0,0,1],\n",
        "    [0,0,0,0,0,1,1,0],\n",
        "    [0,1,1,1,1,0,0,0],\n",
        "    [0,0,0,0,0,0,1,0]\n",
        "]\n",
        "#lista para almacenar la matriz de solución\n",
        "solucion = [[0]*N for _ in range(N)]\n",
        "\n",
        "#función para resolver el laberinto\n",
        "#usando backtracking\n",
        "def resolver_laberinto(r, c):\n",
        "    #si se llega al destino, el laberinto está resuelto\n",
        "    #el destino es la última celda (laberinto[N-1][N-1])\n",
        "    if (r==N-1) and (c==N-1):\n",
        "        solucion[r][c] = 1;\n",
        "        return True;\n",
        "    #comprobando si podemos visitar esta celda o no\n",
        "    #los índices de la celda deben estar en (0,N-1)\n",
        "    #y solution[r][c] == 0 se asegura de que la celda no esté ya visitada\n",
        "    #maze[r][c] == 0 se asegura de que la celda no esté bloqueada\n",
        "    if r>=0 and c>=0 and r<N and c<N and solucion[r][c] == 0 and laberinto[r][c] == 0:\n",
        "        #si es seguro visitarla entonces visitar la celda\n",
        "        solucion[r][c] = 1\n",
        "        #ir hacia abajo\n",
        "        if resolver_laberinto(r+1, c):\n",
        "            return True\n",
        "        #ir hacia la derecha\n",
        "        if resolver_laberinto(r, c+1):\n",
        "            return True\n",
        "        #ir hacia arriba\n",
        "        if resolver_laberinto(r-1, c):\n",
        "            return True\n",
        "        #ir hacia la izquierda\n",
        "        if resolver_laberinto(r, c-1):\n",
        "            return True\n",
        "        #backtracking\n",
        "        solucion[r][c] = 0;\n",
        "        return False;\n",
        "    return 0;\n",
        "if(resolver_laberinto(0,0)):\n",
        "    for i in solucion:\n",
        "        print (i)\n",
        "else:\n",
        "    print (\"No hay solución\")"
      ],
      "metadata": {
        "colab": {
          "base_uri": "https://localhost:8080/"
        },
        "id": "U9md5HkUP7Gn",
        "outputId": "a169a201-e246-425e-ce0d-6bc3336fe8bb"
      },
      "execution_count": null,
      "outputs": [
        {
          "output_type": "stream",
          "name": "stdout",
          "text": [
            "[1, 0, 1, 1, 1, 0, 0, 0]\n",
            "[1, 0, 1, 0, 1, 0, 0, 0]\n",
            "[1, 0, 1, 0, 1, 0, 0, 0]\n",
            "[1, 1, 1, 0, 1, 0, 0, 0]\n",
            "[0, 0, 0, 0, 1, 0, 0, 0]\n",
            "[1, 1, 1, 1, 1, 0, 0, 0]\n",
            "[1, 0, 0, 0, 0, 1, 1, 1]\n",
            "[1, 1, 1, 1, 1, 1, 0, 1]\n"
          ]
        }
      ]
    }
  ]
}