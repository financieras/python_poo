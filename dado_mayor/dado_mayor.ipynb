{
  "nbformat": 4,
  "nbformat_minor": 0,
  "metadata": {
    "colab": {
      "provenance": [],
      "authorship_tag": "ABX9TyOR7Vc7fB70q8/ZQB3N32MA",
      "include_colab_link": true
    },
    "kernelspec": {
      "name": "python3",
      "display_name": "Python 3"
    },
    "language_info": {
      "name": "python"
    }
  },
  "cells": [
    {
      "cell_type": "markdown",
      "metadata": {
        "id": "view-in-github",
        "colab_type": "text"
      },
      "source": [
        "<a href=\"https://colab.research.google.com/github/financieras/python_poo/blob/main/dado_mayor/dado_mayor.ipynb\" target=\"_parent\"><img src=\"https://colab.research.google.com/assets/colab-badge.svg\" alt=\"Open In Colab\"/></a>"
      ]
    },
    {
      "cell_type": "code",
      "execution_count": 3,
      "metadata": {
        "colab": {
          "base_uri": "https://localhost:8080/"
        },
        "id": "yso9BEHcIQxK",
        "outputId": "3cd908ef-e136-4fb0-e33d-bfb618cbaef9"
      },
      "outputs": [
        {
          "output_type": "stream",
          "name": "stdout",
          "text": [
            "Ingrese el número de jugadores (entre 2 y 26): 6\n",
            "Ingrese el nombre del jugador 1: a\n",
            "Ingrese el nombre del jugador 2: s\n",
            "Ingrese el nombre del jugador 3: d\n",
            "Ingrese el nombre del jugador 4: f\n",
            "Ingrese el nombre del jugador 5: g\n",
            "Ingrese el nombre del jugador 6: h\n",
            "\n",
            "Puntuaciones:\n",
            "a: 3\n",
            "s: 5\n",
            "d: 3\n",
            "f: 3\n",
            "g: 5\n",
            "h: 5\n",
            "\n",
            "Ganador(es):\n",
            "s: 5\n",
            "g: 5\n",
            "h: 5\n"
          ]
        }
      ],
      "source": [
        "import random\n",
        "\n",
        "class Jugador:\n",
        "    def __init__(self, nombre):\n",
        "        self.nombre = nombre\n",
        "        self.puntuacion = 0\n",
        "\n",
        "    def lanzar_dado(self):\n",
        "        self.puntuacion = random.randint(1, 6)\n",
        "\n",
        "    def __str__(self):\n",
        "        return f\"{self.nombre}: {self.puntuacion}\"\n",
        "\n",
        "def jugar():\n",
        "    num_jugadores = int(input(\"Ingrese el número de jugadores (entre 2 y 26): \"))\n",
        "    while num_jugadores < 2 or num_jugadores > 26:\n",
        "        num_jugadores = int(input(\"Número inválido. Ingrese el número de jugadores (entre 2 y 26): \"))\n",
        "\n",
        "    jugadores = []\n",
        "    for i in range(num_jugadores):\n",
        "        nombre = input(f\"Ingrese el nombre del jugador {i+1}: \")\n",
        "        jugadores.append(Jugador(nombre))\n",
        "\n",
        "    for jugador in jugadores:\n",
        "        jugador.lanzar_dado()\n",
        "\n",
        "    max_puntuacion = max(jugador.puntuacion for jugador in jugadores)\n",
        "    ganadores = [jugador for jugador in jugadores if jugador.puntuacion == max_puntuacion]\n",
        "\n",
        "    print(\"\\nPuntuaciones:\")\n",
        "    for jugador in jugadores:\n",
        "        print(jugador)\n",
        "\n",
        "    print(\"\\nGanador(es):\")\n",
        "    for ganador in ganadores:\n",
        "        print(ganador)\n",
        "\n",
        "jugar()"
      ]
    },
    {
      "cell_type": "code",
      "source": [
        "import random\n",
        "import string\n",
        "\n",
        "class Jugador:\n",
        "    def __init__(self, nombre):\n",
        "        self.nombre = nombre\n",
        "        self.puntuacion = 0\n",
        "\n",
        "    def lanzar_dado(self):\n",
        "        self.puntuacion = random.randint(1, 6)\n",
        "\n",
        "    def __str__(self):\n",
        "        return f\"{self.nombre}: {self.puntuacion}\"\n",
        "\n",
        "def generar_nombres(num_jugadores):\n",
        "    letras_mayusculas = string.ascii_uppercase\n",
        "    nombres = []\n",
        "    for i in range(num_jugadores):\n",
        "        nombres.append(letras_mayusculas[i])\n",
        "    return nombres\n",
        "\n",
        "def jugar():\n",
        "    num_jugadores = int(input(\"Ingrese el número de jugadores (entre 2 y 26): \"))\n",
        "    while num_jugadores < 2 or num_jugadores > 26:\n",
        "        num_jugadores = int(input(\"Número inválido. Ingrese el número de jugadores (entre 2 y 26): \"))\n",
        "\n",
        "    nombres = generar_nombres(num_jugadores)\n",
        "    jugadores = [Jugador(nombre) for nombre in nombres]\n",
        "\n",
        "    for jugador in jugadores:\n",
        "        jugador.lanzar_dado()\n",
        "\n",
        "    max_puntuacion = max(jugador.puntuacion for jugador in jugadores)\n",
        "    ganadores = [jugador for jugador in jugadores if jugador.puntuacion == max_puntuacion]\n",
        "\n",
        "    print(\"\\nPuntuaciones:\")\n",
        "    for jugador in jugadores:\n",
        "        print(jugador)\n",
        "\n",
        "    print(\"\\nGanador(es):\")\n",
        "    for ganador in ganadores:\n",
        "        print(ganador)\n",
        "\n",
        "jugar()"
      ],
      "metadata": {
        "colab": {
          "base_uri": "https://localhost:8080/"
        },
        "id": "cGGTx3pzJE9m",
        "outputId": "e2b5e6bf-aae6-4f08-e781-f5963ac33a59"
      },
      "execution_count": 5,
      "outputs": [
        {
          "output_type": "stream",
          "name": "stdout",
          "text": [
            "Ingrese el número de jugadores (entre 2 y 26): 26\n",
            "\n",
            "Puntuaciones:\n",
            "A: 2\n",
            "B: 4\n",
            "C: 5\n",
            "D: 6\n",
            "E: 1\n",
            "F: 4\n",
            "G: 5\n",
            "H: 5\n",
            "I: 6\n",
            "J: 4\n",
            "K: 1\n",
            "L: 2\n",
            "M: 3\n",
            "N: 1\n",
            "O: 4\n",
            "P: 3\n",
            "Q: 4\n",
            "R: 5\n",
            "S: 3\n",
            "T: 2\n",
            "U: 4\n",
            "V: 6\n",
            "W: 6\n",
            "X: 3\n",
            "Y: 1\n",
            "Z: 3\n",
            "\n",
            "Ganador(es):\n",
            "D: 6\n",
            "I: 6\n",
            "V: 6\n",
            "W: 6\n"
          ]
        }
      ]
    },
    {
      "cell_type": "code",
      "source": [
        "import random\n",
        "import string\n",
        "\n",
        "class Jugador:\n",
        "    def __init__(self, nombre):\n",
        "        self.nombre = nombre\n",
        "        self.puntuacion = 0\n",
        "\n",
        "    def lanzar_dado(self):\n",
        "        self.puntuacion = random.randint(1, 6)\n",
        "\n",
        "    def __str__(self):\n",
        "        return f\"{self.nombre}: {self.puntuacion}\"\n",
        "\n",
        "def generar_nombres(num_jugadores):\n",
        "    letras_mayusculas = string.ascii_uppercase\n",
        "    nombres = []\n",
        "    for i in range(num_jugadores):\n",
        "        nombres.append(letras_mayusculas[i])\n",
        "    return nombres\n",
        "\n",
        "def jugar():\n",
        "    num_jugadores = int(input(\"Ingrese el número de jugadores (entre 2 y 26): \"))\n",
        "    while num_jugadores < 2 or num_jugadores > 26:\n",
        "        num_jugadores = int(input(\"Número inválido. Ingrese el número de jugadores (entre 2 y 26): \"))\n",
        "\n",
        "    nombres = generar_nombres(num_jugadores)\n",
        "    jugadores = [Jugador(nombre) for nombre in nombres]\n",
        "\n",
        "    for jugador in jugadores:\n",
        "        jugador.lanzar_dado()\n",
        "\n",
        "    max_puntuacion = max(jugador.puntuacion for jugador in jugadores)\n",
        "    ganadores = [jugador for jugador in jugadores if jugador.puntuacion == max_puntuacion]\n",
        "\n",
        "    print(\"\\nPuntuaciones:\")\n",
        "    for jugador in jugadores:\n",
        "        print(jugador)\n",
        "\n",
        "    print(\"\\nGanadores:\")\n",
        "    ganadores_frase = \", \".join([ganador.nombre for ganador in ganadores])\n",
        "    puntuacion_ganadores = ganadores[0].puntuacion\n",
        "    print(f\"{ganadores_frase}. Puntos: {puntuacion_ganadores}\")\n",
        "\n",
        "jugar()"
      ],
      "metadata": {
        "colab": {
          "base_uri": "https://localhost:8080/"
        },
        "id": "H4gQMUWaKndn",
        "outputId": "1140c896-757b-42ef-f149-319b8e150adb"
      },
      "execution_count": 6,
      "outputs": [
        {
          "output_type": "stream",
          "name": "stdout",
          "text": [
            "Ingrese el número de jugadores (entre 2 y 26): 26\n",
            "\n",
            "Puntuaciones:\n",
            "A: 2\n",
            "B: 3\n",
            "C: 2\n",
            "D: 6\n",
            "E: 4\n",
            "F: 4\n",
            "G: 1\n",
            "H: 6\n",
            "I: 6\n",
            "J: 5\n",
            "K: 3\n",
            "L: 6\n",
            "M: 2\n",
            "N: 6\n",
            "O: 6\n",
            "P: 3\n",
            "Q: 4\n",
            "R: 6\n",
            "S: 1\n",
            "T: 2\n",
            "U: 6\n",
            "V: 5\n",
            "W: 6\n",
            "X: 6\n",
            "Y: 3\n",
            "Z: 1\n",
            "\n",
            "Ganadores:\n",
            "D, H, I, L, N, O, R, U, W, X. Puntos: 6\n"
          ]
        }
      ]
    }
  ]
}