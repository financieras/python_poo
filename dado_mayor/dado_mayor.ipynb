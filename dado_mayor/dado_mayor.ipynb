{
  "nbformat": 4,
  "nbformat_minor": 0,
  "metadata": {
    "colab": {
      "provenance": [],
      "authorship_tag": "ABX9TyPPFFPu5485c2ul2pzkSf50",
      "include_colab_link": true
    },
    "kernelspec": {
      "name": "python3",
      "display_name": "Python 3"
    },
    "language_info": {
      "name": "python"
    }
  },
  "cells": [
    {
      "cell_type": "markdown",
      "metadata": {
        "id": "view-in-github",
        "colab_type": "text"
      },
      "source": [
        "<a href=\"https://colab.research.google.com/github/financieras/python_poo/blob/main/dado_mayor/dado_mayor.ipynb\" target=\"_parent\"><img src=\"https://colab.research.google.com/assets/colab-badge.svg\" alt=\"Open In Colab\"/></a>"
      ]
    },
    {
      "cell_type": "markdown",
      "source": [
        "# Lanzar un dado\n",
        "Programar en Python, con programación orientada a objetos, un juego sencillo con las siguientes reglas:\n",
        "1. El número de jugadores puede variar entre 2 y 26\n",
        "2. Cada jugador lanza una vez un dado\n",
        "3. Gana el jugador que haya obtenido mayor puntuación en el lanzamiento del dado\n",
        "4. Solo hay una ronda de lanzamientos\n",
        "5. Considerar que puede haber empate entre varios jugadores que hayan obtenido todos ellos la máxima puntuación\n",
        "6. Imprimir en pantalla los puntos obtenidos por los jugadores\n",
        "7. Imprimir por pantalla el o los jugadores ganadores y su puntuación obtenida"
      ],
      "metadata": {
        "id": "4_7qmIOBA_mV"
      }
    },
    {
      "cell_type": "markdown",
      "source": [
        "## Método 1\n",
        "Tecleando el nombre de los jugadores."
      ],
      "metadata": {
        "id": "a70HeShLBeuP"
      }
    },
    {
      "cell_type": "code",
      "execution_count": 9,
      "metadata": {
        "colab": {
          "base_uri": "https://localhost:8080/"
        },
        "id": "yso9BEHcIQxK",
        "outputId": "b0d61a47-dcf0-45cd-e8d9-31f8dc85778a"
      },
      "outputs": [
        {
          "output_type": "stream",
          "name": "stdout",
          "text": [
            "Ingrese el número de jugadores (entre 2 y 26): 10\n",
            "Ingrese el nombre del jugador 1: A\n",
            "Ingrese el nombre del jugador 2: B\n",
            "Ingrese el nombre del jugador 3: C\n",
            "Ingrese el nombre del jugador 4: D\n",
            "Ingrese el nombre del jugador 5: E\n",
            "Ingrese el nombre del jugador 6: F\n",
            "Ingrese el nombre del jugador 7: G\n",
            "Ingrese el nombre del jugador 8: H\n",
            "Ingrese el nombre del jugador 9: I\n",
            "Ingrese el nombre del jugador 10: J\n",
            "\n",
            "Puntuaciones:\n",
            "A: 1\n",
            "B: 6\n",
            "C: 6\n",
            "D: 3\n",
            "E: 3\n",
            "F: 2\n",
            "G: 2\n",
            "H: 5\n",
            "I: 4\n",
            "J: 3\n",
            "\n",
            "Ganador(es):\n",
            "B: 6\n",
            "C: 6\n"
          ]
        }
      ],
      "source": [
        "import random\n",
        "\n",
        "class Jugador:\n",
        "    def __init__(self, nombre):\n",
        "        self.nombre = nombre\n",
        "        self.puntuacion = 0\n",
        "\n",
        "    def lanzar_dado(self):\n",
        "        self.puntuacion = random.randint(1, 6)\n",
        "\n",
        "    def __str__(self):\n",
        "        return f\"{self.nombre}: {self.puntuacion}\"\n",
        "\n",
        "def jugar():\n",
        "    num_jugadores = int(input(\"Ingrese el número de jugadores (entre 2 y 26): \"))\n",
        "    while num_jugadores < 2 or num_jugadores > 26:\n",
        "        num_jugadores = int(input(\"Número inválido. Ingrese el número de jugadores (entre 2 y 26): \"))\n",
        "\n",
        "    jugadores = []\n",
        "    for i in range(num_jugadores):\n",
        "        nombre = input(f\"Ingrese el nombre del jugador {i+1}: \")\n",
        "        jugadores.append(Jugador(nombre))\n",
        "\n",
        "    for jugador in jugadores:\n",
        "        jugador.lanzar_dado()\n",
        "\n",
        "    max_puntuacion = max(jugador.puntuacion for jugador in jugadores)\n",
        "    ganadores = [jugador for jugador in jugadores if jugador.puntuacion == max_puntuacion]\n",
        "\n",
        "    print(\"\\nPuntuaciones:\")\n",
        "    for jugador in jugadores:\n",
        "        print(jugador)      # usa el método __str__ imprimiendo nombre y puntos\n",
        "\n",
        "    print(\"\\nGanador(es):\")\n",
        "    for ganador in ganadores:\n",
        "        print(ganador)\n",
        "\n",
        "jugar()"
      ]
    },
    {
      "cell_type": "markdown",
      "source": [
        "## Método 2\n",
        "1. Generando automáticamente los nombres de los jugadores.\n",
        "2. Se usa la función `ascii_uppercase` de la librería `string`"
      ],
      "metadata": {
        "id": "1N5g9vRICTPe"
      }
    },
    {
      "cell_type": "code",
      "source": [
        "import random\n",
        "import string\n",
        "\n",
        "class Jugador:\n",
        "    def __init__(self, nombre):\n",
        "        self.nombre = nombre\n",
        "        self.puntuacion = 0\n",
        "\n",
        "    def lanzar_dado(self):\n",
        "        self.puntuacion = random.randint(1, 6)\n",
        "\n",
        "    def __str__(self):\n",
        "        return f\"{self.nombre}: {self.puntuacion}\"\n",
        "\n",
        "def generar_nombres(num_jugadores):\n",
        "    letras_mayusculas = string.ascii_uppercase\n",
        "    nombres = []                                # array de nombres ['A','B','C']\n",
        "    for i in range(num_jugadores):\n",
        "        nombres.append(letras_mayusculas[i])\n",
        "    return nombres\n",
        "\n",
        "def jugar():\n",
        "    num_jugadores = int(input(\"Ingrese el número de jugadores (entre 2 y 26): \"))\n",
        "    while num_jugadores < 2 or num_jugadores > 26:\n",
        "        num_jugadores = int(input(\"Número inválido. Ingrese el número de jugadores (entre 2 y 26): \"))\n",
        "\n",
        "    nombres = generar_nombres(num_jugadores)\n",
        "    jugadores = [Jugador(nombre) for nombre in nombres]\n",
        "\n",
        "    for jugador in jugadores:\n",
        "        jugador.lanzar_dado()\n",
        "\n",
        "    max_puntuacion = max(jugador.puntuacion for jugador in jugadores)\n",
        "    ganadores = [jugador for jugador in jugadores if jugador.puntuacion == max_puntuacion]\n",
        "\n",
        "    print(\"\\nPuntuaciones:\")\n",
        "    for jugador in jugadores:\n",
        "        print(jugador)\n",
        "\n",
        "    print(\"\\nGanador(es):\")\n",
        "    for ganador in ganadores:\n",
        "        print(ganador)\n",
        "\n",
        "jugar()"
      ],
      "metadata": {
        "colab": {
          "base_uri": "https://localhost:8080/"
        },
        "id": "cGGTx3pzJE9m",
        "outputId": "43e095e1-e054-46a2-a098-9f27b412665b"
      },
      "execution_count": 13,
      "outputs": [
        {
          "output_type": "stream",
          "name": "stdout",
          "text": [
            "Ingrese el número de jugadores (entre 2 y 26): 5\n",
            "\n",
            "Puntuaciones:\n",
            "A: 5\n",
            "B: 6\n",
            "C: 5\n",
            "D: 1\n",
            "E: 6\n",
            "\n",
            "Ganador(es):\n",
            "B: 6\n",
            "E: 6\n"
          ]
        }
      ]
    },
    {
      "cell_type": "markdown",
      "source": [
        "## Método 3\n",
        "* Se imprimen todos los ganadores separados por coma y\n",
        "* al final se imprime la puntuación ganadora de todos ellos"
      ],
      "metadata": {
        "id": "kG_2NHASDp3y"
      }
    },
    {
      "cell_type": "code",
      "source": [
        "import random\n",
        "import string\n",
        "\n",
        "class Jugador:\n",
        "    def __init__(self, nombre):\n",
        "        self.nombre = nombre\n",
        "        self.puntuacion = 0\n",
        "\n",
        "    def lanzar_dado(self):\n",
        "        self.puntuacion = random.randint(1, 6)\n",
        "\n",
        "    def __str__(self):\n",
        "        return f\"{self.nombre}: {self.puntuacion}\"\n",
        "\n",
        "def generar_nombres(num_jugadores):\n",
        "    letras_mayusculas = string.ascii_uppercase\n",
        "    nombres = []\n",
        "    for i in range(num_jugadores):\n",
        "        nombres.append(letras_mayusculas[i])\n",
        "    return nombres\n",
        "\n",
        "def jugar():\n",
        "    num_jugadores = int(input(\"Ingrese el número de jugadores (entre 2 y 26): \"))\n",
        "    while num_jugadores < 2 or num_jugadores > 26:\n",
        "        num_jugadores = int(input(\"Número inválido. Ingrese el número de jugadores (entre 2 y 26): \"))\n",
        "\n",
        "    nombres = generar_nombres(num_jugadores)\n",
        "    jugadores = [Jugador(nombre) for nombre in nombres]\n",
        "\n",
        "    for jugador in jugadores:\n",
        "        jugador.lanzar_dado()\n",
        "\n",
        "    max_puntuacion = max(jugador.puntuacion for jugador in jugadores)\n",
        "    ganadores = [jugador for jugador in jugadores if jugador.puntuacion == max_puntuacion]\n",
        "\n",
        "    print(\"\\nPuntuaciones:\")\n",
        "    for jugador in jugadores:\n",
        "        print(jugador)\n",
        "\n",
        "    print(\"\\nGanadores:\")\n",
        "    ganadores_frase = \", \".join([ganador.nombre for ganador in ganadores])  # todos los ganadores separados por coma\n",
        "    puntuacion_ganadores = ganadores[0].puntuacion                          # la puntuación de uno es la de todos los ganadores\n",
        "    print(f\"{ganadores_frase}. Puntos: {puntuacion_ganadores}\")\n",
        "\n",
        "jugar()"
      ],
      "metadata": {
        "colab": {
          "base_uri": "https://localhost:8080/"
        },
        "id": "H4gQMUWaKndn",
        "outputId": "1140c896-757b-42ef-f149-319b8e150adb"
      },
      "execution_count": null,
      "outputs": [
        {
          "output_type": "stream",
          "name": "stdout",
          "text": [
            "Ingrese el número de jugadores (entre 2 y 26): 26\n",
            "\n",
            "Puntuaciones:\n",
            "A: 2\n",
            "B: 3\n",
            "C: 2\n",
            "D: 6\n",
            "E: 4\n",
            "F: 4\n",
            "G: 1\n",
            "H: 6\n",
            "I: 6\n",
            "J: 5\n",
            "K: 3\n",
            "L: 6\n",
            "M: 2\n",
            "N: 6\n",
            "O: 6\n",
            "P: 3\n",
            "Q: 4\n",
            "R: 6\n",
            "S: 1\n",
            "T: 2\n",
            "U: 6\n",
            "V: 5\n",
            "W: 6\n",
            "X: 6\n",
            "Y: 3\n",
            "Z: 1\n",
            "\n",
            "Ganadores:\n",
            "D, H, I, L, N, O, R, U, W, X. Puntos: 6\n"
          ]
        }
      ]
    },
    {
      "cell_type": "markdown",
      "source": [
        "# Método 4\n",
        "1. No se usa la librería `string``\n",
        " - Las mayúsculas se obtienen por el código ASCII\n",
        " - En ASCII el código de la A mayúscula es 65\n",
        " - El resto se obtiene sumando 1 ya que son códigos correlativos\n",
        "5. Se evita usar dos veces `input`\n",
        " - Esto se logra usando `While True` y `break`"
      ],
      "metadata": {
        "id": "l-IEdDwrEzA1"
      }
    },
    {
      "cell_type": "code",
      "source": [
        "import random\n",
        "\n",
        "class Jugador:\n",
        "    def __init__(self, nombre):\n",
        "        self.nombre = nombre\n",
        "        self.puntuacion = 0\n",
        "\n",
        "    def lanzar_dado(self):\n",
        "        self.puntuacion = random.randint(1, 6)\n",
        "\n",
        "    def __str__(self):\n",
        "        return f\"{self.nombre}: {self.puntuacion}\"\n",
        "\n",
        "def generar_nombres(num_jugadores):\n",
        "    '''Genera nombres automáticamente utilizando\n",
        "     el código ASCII de las letras mayúsculas'''\n",
        "    nombres = [chr(65 + i) for i in range(num_jugadores)]       # código ASCII\n",
        "    return nombres\n",
        "\n",
        "def jugar():\n",
        "    '''Solicita el número de jugadores y valida que esté entre 2 y 26'''\n",
        "    while True:\n",
        "        num_jugadores = int(input(\"Ingrese el número de jugadores (entre 2 y 26): \"))\n",
        "        if 2 <= num_jugadores <= 26:\n",
        "            break\n",
        "        print(\"Número inválido. Intente de nuevo.\")\n",
        "\n",
        "    nombres = generar_nombres(num_jugadores)\n",
        "    jugadores = [Jugador(nombre) for nombre in nombres]\n",
        "\n",
        "    for jugador in jugadores:\n",
        "        jugador.lanzar_dado()\n",
        "\n",
        "    max_puntuacion = max(jugador.puntuacion for jugador in jugadores)\n",
        "    ganadores = [jugador for jugador in jugadores if jugador.puntuacion == max_puntuacion]\n",
        "\n",
        "    print(\"\\nPuntuaciones:\")\n",
        "    for jugador in jugadores:\n",
        "        print(jugador)\n",
        "\n",
        "    print(\"\\nGanador(es):\")\n",
        "    ganadores_frase = \", \".join([ganador.nombre for ganador in ganadores])\n",
        "    puntuacion_ganadores = ganadores[0].puntuacion\n",
        "    print(f\"{ganadores_frase}. Puntos: {puntuacion_ganadores}\")\n",
        "\n",
        "jugar()"
      ],
      "metadata": {
        "colab": {
          "base_uri": "https://localhost:8080/"
        },
        "id": "lwR7loNoS3_w",
        "outputId": "eca3c0f8-25a4-4c3a-e0c8-d1dbe4c53dea"
      },
      "execution_count": null,
      "outputs": [
        {
          "output_type": "stream",
          "name": "stdout",
          "text": [
            "Ingrese el número de jugadores (entre 2 y 26): 4\n",
            "\n",
            "Puntuaciones:\n",
            "A: 3\n",
            "B: 2\n",
            "C: 2\n",
            "D: 5\n",
            "\n",
            "Ganadores:\n",
            "D. Puntos: 5\n"
          ]
        }
      ]
    }
  ]
}