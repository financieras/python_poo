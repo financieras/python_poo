{
  "nbformat": 4,
  "nbformat_minor": 0,
  "metadata": {
    "colab": {
      "provenance": [],
      "authorship_tag": "ABX9TyOG666k5rUphVPvnstuu075",
      "include_colab_link": true
    },
    "kernelspec": {
      "name": "python3",
      "display_name": "Python 3"
    },
    "language_info": {
      "name": "python"
    }
  },
  "cells": [
    {
      "cell_type": "markdown",
      "metadata": {
        "id": "view-in-github",
        "colab_type": "text"
      },
      "source": [
        "<a href=\"https://colab.research.google.com/github/financieras/python_poo/blob/main/dado_mayor/dado_mayor.ipynb\" target=\"_parent\"><img src=\"https://colab.research.google.com/assets/colab-badge.svg\" alt=\"Open In Colab\"/></a>"
      ]
    },
    {
      "cell_type": "markdown",
      "source": [
        "# Lanzar un dado\n",
        "Programar en Python, con programación orientada a objetos, un juego sencillo con las siguientes reglas:\n",
        "1. El número de jugadores puede variar entre 2 y 26\n",
        "2. Cada jugador lanza una vez un dado\n",
        "3. Gana el jugador que haya obtenido mayor puntuación en el lanzamiento del dado\n",
        "4. Solo hay una ronda de lanzamientos\n",
        "5. Considerar que puede haber empate entre varios jugadores que hayan obtenido todos ellos la máxima puntuación\n",
        "6. Imprimir en pantalla los puntos obtenidos por los jugadores\n",
        "7. Imprimir por pantalla el o los jugadores ganadores y su puntuación obtenida"
      ],
      "metadata": {
        "id": "4_7qmIOBA_mV"
      }
    },
    {
      "cell_type": "markdown",
      "source": [
        "## Método 1\n",
        "Tecleando el nombre de los jugadores."
      ],
      "metadata": {
        "id": "a70HeShLBeuP"
      }
    },
    {
      "cell_type": "code",
      "execution_count": 4,
      "metadata": {
        "colab": {
          "base_uri": "https://localhost:8080/"
        },
        "id": "yso9BEHcIQxK",
        "outputId": "85eac9e9-4064-4f55-87d9-a1bf39e6152a"
      },
      "outputs": [
        {
          "output_type": "stream",
          "name": "stdout",
          "text": [
            "Ingrese el número de jugadores (entre 2 y 26): 5\n",
            "Ingrese el nombre del jugador 1: Pedro\n",
            "Ingrese el nombre del jugador 2: Ana\n",
            "Ingrese el nombre del jugador 3: Jose\n",
            "Ingrese el nombre del jugador 4: María\n",
            "Ingrese el nombre del jugador 5: Pablo\n",
            "\n",
            "Puntuaciones:\n",
            "Pedro → 2\n",
            "Ana → 2\n",
            "Jose → 5\n",
            "María → 5\n",
            "Pablo → 5\n",
            "\n",
            "Ganador(es):\n",
            "Jose → 5\n",
            "María → 5\n",
            "Pablo → 5\n"
          ]
        }
      ],
      "source": [
        "import random\n",
        "\n",
        "class Jugador:\n",
        "    def __init__(self, nombre):\n",
        "        self.nombre = nombre\n",
        "        self.puntuacion = 0     # se inicializa la puntuación en cero\n",
        "\n",
        "    def lanzar_dado(self):\n",
        "        self.puntuacion = random.randint(1, 6)\n",
        "\n",
        "    def __str__(self):\n",
        "        return f\"{self.nombre} → {self.puntuacion}\"\n",
        "\n",
        "def jugar():\n",
        "    num_jugadores = int(input(\"Ingrese el número de jugadores (entre 2 y 26): \"))\n",
        "    while num_jugadores < 2 or num_jugadores > 26:\n",
        "        num_jugadores = int(input(\"Número inválido. Ingrese el número de jugadores (entre 2 y 26): \"))\n",
        "\n",
        "    jugadores = []      # inicializamos la lista de jugadores como objetos\n",
        "    for i in range(num_jugadores):\n",
        "        nombre = input(f\"Ingrese el nombre del jugador {i+1}: \")\n",
        "        jugadores.append(Jugador(nombre))\n",
        "\n",
        "    for jugador in jugadores:\n",
        "        jugador.lanzar_dado()\n",
        "\n",
        "    max_puntuacion = max(jugador.puntuacion for jugador in jugadores)\n",
        "    ganadores = [jugador for jugador in jugadores if jugador.puntuacion == max_puntuacion]\n",
        "\n",
        "    print(\"\\nPuntuaciones:\")\n",
        "    for jugador in jugadores:\n",
        "        print(jugador)      # usa el método __str__ imprimiendo nombre y puntos\n",
        "\n",
        "    print(\"\\nGanador(es):\")\n",
        "    for ganador in ganadores:\n",
        "        print(ganador)\n",
        "\n",
        "jugar()"
      ]
    },
    {
      "cell_type": "markdown",
      "source": [
        "## Método 2\n",
        "1. Generando automáticamente los nombres de los jugadores.\n",
        "2. Se usa la función `ascii_uppercase` de la librería `string`"
      ],
      "metadata": {
        "id": "1N5g9vRICTPe"
      }
    },
    {
      "cell_type": "code",
      "source": [
        "import random\n",
        "import string\n",
        "\n",
        "class Jugador:\n",
        "    def __init__(self, nombre):\n",
        "        self.nombre = nombre\n",
        "        self.puntuacion = 0\n",
        "\n",
        "    def lanzar_dado(self):\n",
        "        self.puntuacion = random.randint(1, 6)\n",
        "\n",
        "    def __str__(self):\n",
        "        return f\"{self.nombre} -->º {self.puntuacion}\"\n",
        "\n",
        "def generar_nombres(num_jugadores):\n",
        "    letras_mayusculas = string.ascii_uppercase\n",
        "    nombres = []                                # array de nombres ['A','B','C']\n",
        "    for i in range(num_jugadores):\n",
        "        nombres.append(letras_mayusculas[i])\n",
        "    return nombres\n",
        "\n",
        "def jugar():\n",
        "    num_jugadores = int(input(\"Ingrese el número de jugadores (entre 2 y 26): \"))\n",
        "    while num_jugadores < 2 or num_jugadores > 26:\n",
        "        num_jugadores = int(input(\"Número inválido. Ingrese el número de jugadores (entre 2 y 26): \"))\n",
        "\n",
        "    nombres = generar_nombres(num_jugadores)\n",
        "    jugadores = [Jugador(nombre) for nombre in nombres]\n",
        "\n",
        "    for jugador in jugadores:\n",
        "        jugador.lanzar_dado()\n",
        "\n",
        "    max_puntuacion = max(jugador.puntuacion for jugador in jugadores)\n",
        "    ganadores = [jugador for jugador in jugadores if jugador.puntuacion == max_puntuacion]\n",
        "\n",
        "    print(\"\\nPuntuaciones:\")\n",
        "    for jugador in jugadores:\n",
        "        print(jugador)\n",
        "\n",
        "    print(\"\\nGanador(es):\")\n",
        "    for ganador in ganadores:\n",
        "        print(ganador)\n",
        "\n",
        "jugar()"
      ],
      "metadata": {
        "colab": {
          "base_uri": "https://localhost:8080/"
        },
        "id": "cGGTx3pzJE9m",
        "outputId": "eacc885b-beac-4d85-c587-24a5fa9d709e"
      },
      "execution_count": 5,
      "outputs": [
        {
          "output_type": "stream",
          "name": "stdout",
          "text": [
            "Ingrese el número de jugadores (entre 2 y 26): 8\n",
            "\n",
            "Puntuaciones:\n",
            "A --> 5\n",
            "B --> 1\n",
            "C --> 4\n",
            "D --> 2\n",
            "E --> 1\n",
            "F --> 4\n",
            "G --> 4\n",
            "H --> 1\n",
            "\n",
            "Ganador(es):\n",
            "A --> 5\n"
          ]
        }
      ]
    },
    {
      "cell_type": "markdown",
      "source": [
        "## Método 3\n",
        "* Se imprimen todos los ganadores separados por coma y\n",
        "* al final se imprime la puntuación ganadora de todos ellos"
      ],
      "metadata": {
        "id": "kG_2NHASDp3y"
      }
    },
    {
      "cell_type": "code",
      "source": [
        "import random\n",
        "import string\n",
        "\n",
        "class Jugador:\n",
        "    def __init__(self, nombre):\n",
        "        self.nombre = nombre\n",
        "        self.puntuacion = 0\n",
        "\n",
        "    def lanzar_dado(self):\n",
        "        self.puntuacion = random.randint(1, 6)\n",
        "\n",
        "    def __str__(self):\n",
        "        return f\"{self.nombre}: {self.puntuacion}\"\n",
        "\n",
        "def generar_nombres(num_jugadores):\n",
        "    letras_mayusculas = string.ascii_uppercase\n",
        "    nombres = []\n",
        "    for i in range(num_jugadores):\n",
        "        nombres.append(letras_mayusculas[i])\n",
        "    return nombres\n",
        "\n",
        "def jugar():\n",
        "    num_jugadores = int(input(\"Ingrese el número de jugadores (entre 2 y 26): \"))\n",
        "    while num_jugadores < 2 or num_jugadores > 26:\n",
        "        num_jugadores = int(input(\"Número inválido. Ingrese el número de jugadores (entre 2 y 26): \"))\n",
        "\n",
        "    nombres = generar_nombres(num_jugadores)\n",
        "    jugadores = [Jugador(nombre) for nombre in nombres]\n",
        "\n",
        "    for jugador in jugadores:\n",
        "        jugador.lanzar_dado()\n",
        "\n",
        "    max_puntuacion = max(jugador.puntuacion for jugador in jugadores)\n",
        "    ganadores = [jugador for jugador in jugadores if jugador.puntuacion == max_puntuacion]\n",
        "\n",
        "    print(\"\\nPuntuaciones:\")\n",
        "    for jugador in jugadores:\n",
        "        print(jugador)\n",
        "\n",
        "    print(\"\\nGanadores:\")\n",
        "    ganadores_frase = \", \".join([ganador.nombre for ganador in ganadores])  # todos los ganadores separados por coma\n",
        "    puntuacion_ganadores = ganadores[0].puntuacion                          # la puntuación de uno es la de todos los ganadores\n",
        "    print(f\"{ganadores_frase}. Puntos: {puntuacion_ganadores}\")\n",
        "\n",
        "jugar()"
      ],
      "metadata": {
        "colab": {
          "base_uri": "https://localhost:8080/"
        },
        "id": "H4gQMUWaKndn",
        "outputId": "43a83e90-778d-4638-d6e2-43f8996d4428"
      },
      "execution_count": 9,
      "outputs": [
        {
          "output_type": "stream",
          "name": "stdout",
          "text": [
            "Ingrese el número de jugadores (entre 2 y 26): 8\n",
            "\n",
            "Puntuaciones:\n",
            "A: 3\n",
            "B: 4\n",
            "C: 6\n",
            "D: 2\n",
            "E: 6\n",
            "F: 5\n",
            "G: 1\n",
            "H: 4\n",
            "\n",
            "Ganadores:\n",
            "C, E. Puntos: 6\n"
          ]
        }
      ]
    },
    {
      "cell_type": "markdown",
      "source": [
        "# Método 4\n",
        "1. No se usa la librería `string``\n",
        " - Las mayúsculas se obtienen por el código ASCII\n",
        " - En ASCII el código de la A mayúscula es 65\n",
        " - El resto se obtiene sumando 1 ya que son códigos correlativos\n",
        "5. Se evita usar dos veces `input`\n",
        " - Esto se logra usando `While True` y `break`"
      ],
      "metadata": {
        "id": "l-IEdDwrEzA1"
      }
    },
    {
      "cell_type": "code",
      "source": [
        "import random\n",
        "\n",
        "class Jugador:\n",
        "    def __init__(self, nombre):\n",
        "        self.nombre = nombre\n",
        "        self.puntuacion = 0\n",
        "\n",
        "    def lanzar_dado(self):\n",
        "        self.puntuacion = random.randint(1, 6)\n",
        "\n",
        "    def __str__(self):\n",
        "        return f\"{self.nombre}: {self.puntuacion}\"\n",
        "\n",
        "def generar_nombres(num_jugadores):\n",
        "    '''Genera nombres automáticamente utilizando\n",
        "     el código ASCII de las letras mayúsculas'''\n",
        "    nombres = [chr(65 + i) for i in range(num_jugadores)]       # código ASCII\n",
        "    return nombres\n",
        "\n",
        "def jugar():\n",
        "    '''Solicita el número de jugadores y valida que esté entre 2 y 26'''\n",
        "    while True:\n",
        "        num_jugadores = int(input(\"Ingrese el número de jugadores (entre 2 y 26): \"))\n",
        "        if 2 <= num_jugadores <= 26:\n",
        "            break\n",
        "        print(\"Número inválido. Intente de nuevo.\")\n",
        "\n",
        "    nombres = generar_nombres(num_jugadores)\n",
        "    jugadores = [Jugador(nombre) for nombre in nombres]\n",
        "\n",
        "    for jugador in jugadores:\n",
        "        jugador.lanzar_dado()\n",
        "\n",
        "    max_puntuacion = max(jugador.puntuacion for jugador in jugadores)\n",
        "    ganadores = [jugador for jugador in jugadores if jugador.puntuacion == max_puntuacion]\n",
        "\n",
        "    print(\"\\nPuntuaciones:\")\n",
        "    for jugador in jugadores:\n",
        "        print(jugador)\n",
        "\n",
        "    print(\"\\nGanador(es):\")\n",
        "    ganadores_frase = \", \".join([ganador.nombre for ganador in ganadores])\n",
        "    puntuacion_ganadores = ganadores[0].puntuacion\n",
        "    print(f\"{ganadores_frase}. Puntos: {puntuacion_ganadores}\")\n",
        "\n",
        "jugar()"
      ],
      "metadata": {
        "colab": {
          "base_uri": "https://localhost:8080/"
        },
        "id": "lwR7loNoS3_w",
        "outputId": "a25b921f-4f89-455c-a642-0891b4aa1ef7"
      },
      "execution_count": 10,
      "outputs": [
        {
          "output_type": "stream",
          "name": "stdout",
          "text": [
            "Ingrese el número de jugadores (entre 2 y 26): 6\n",
            "\n",
            "Puntuaciones:\n",
            "A: 1\n",
            "B: 5\n",
            "C: 5\n",
            "D: 1\n",
            "E: 3\n",
            "F: 2\n",
            "\n",
            "Ganador(es):\n",
            "B, C. Puntos: 5\n"
          ]
        }
      ]
    },
    {
      "cell_type": "markdown",
      "source": [
        "## Método 5\n",
        "1. Sin preguntar por el número de jugadores\n",
        "2. Se usa la constante NUM_JUGADORES que actúa como variable global\n",
        "3. Se crea la clase Juego. Ya no existen funciones independientes"
      ],
      "metadata": {
        "id": "U4mgZej3Zgm7"
      }
    },
    {
      "cell_type": "code",
      "source": [
        "import random\n",
        "\n",
        "class Jugador:\n",
        "    def __init__(self, nombre):\n",
        "        self.nombre = nombre\n",
        "        self.puntuacion = 0\n",
        "\n",
        "    def lanzar_dado(self):\n",
        "        self.puntuacion = random.randint(1, 6)\n",
        "\n",
        "    def __str__(self):\n",
        "        return f\"{self.nombre}: {self.puntuacion}\"\n",
        "\n",
        "class Juego:\n",
        "    def __init__(self, num_jugadores):\n",
        "        self.num_jugadores = num_jugadores\n",
        "        self.jugadores = []\n",
        "        self.ganadores = []\n",
        "\n",
        "    def generar_nombres(self):\n",
        "        nombres = [chr(65 + i) for i in range(self.num_jugadores)]       # código ASCII\n",
        "        return nombres\n",
        "\n",
        "    def jugar(self):\n",
        "        nombres = self.generar_nombres()\n",
        "        self.jugadores = [Jugador(nombre) for nombre in nombres]\n",
        "\n",
        "        for jugador in self.jugadores:\n",
        "            jugador.lanzar_dado()\n",
        "\n",
        "        max_puntuacion = max(jugador.puntuacion for jugador in self.jugadores)\n",
        "        self.ganadores = [jugador for jugador in self.jugadores if jugador.puntuacion == max_puntuacion]\n",
        "\n",
        "        print(\"\\nPuntuaciones:\")\n",
        "        for jugador in self.jugadores:\n",
        "            print(jugador)\n",
        "\n",
        "        print(\"\\nGanador(es):\")\n",
        "        ganadores_frase = \", \".join([ganador.nombre for ganador in self.ganadores])\n",
        "        puntuacion_ganadores = self.ganadores[0].puntuacion\n",
        "        print(f\"{ganadores_frase}. Puntos: {puntuacion_ganadores}\")\n",
        "\n",
        "if __name__ == \"__main__\":\n",
        "    NUM_JUGADORES = 4\n",
        "    juego = Juego(NUM_JUGADORES)\n",
        "    juego.jugar()"
      ],
      "metadata": {
        "id": "HLEwCXfSZ4Lq",
        "outputId": "c7fe3d4e-8736-4519-9cb3-f5ed7464b620",
        "colab": {
          "base_uri": "https://localhost:8080/"
        }
      },
      "execution_count": null,
      "outputs": [
        {
          "output_type": "stream",
          "name": "stdout",
          "text": [
            "\n",
            "Puntuaciones:\n",
            "A: 6\n",
            "B: 4\n",
            "C: 6\n",
            "D: 1\n",
            "\n",
            "Ganador(es):\n",
            "A, C. Puntos: 6\n"
          ]
        }
      ]
    },
    {
      "cell_type": "markdown",
      "source": [
        "## Método 6\n",
        "Usando un diccionario:\n",
        " 1. clave : valor\n",
        " 2. nombre : puntuación\n",
        " 3. ejemplo:\n",
        "   - `{'Jugador1': 5, 'Jugador2': 6, 'Jugador3': 5, 'Jugador4': 3}`"
      ],
      "metadata": {
        "id": "GRchsKKjSCJQ"
      }
    },
    {
      "cell_type": "code",
      "source": [
        "import random\n",
        "\n",
        "class Jugador:\n",
        "    def __init__(self, nombre):\n",
        "        self.nombre = nombre\n",
        "        self.puntuacion = 0\n",
        "\n",
        "    def lanzar_dado(self):\n",
        "        self.puntuacion = random.randint(1, 6)\n",
        "\n",
        "class Juego:\n",
        "    def __init__(self, jugadores):\n",
        "        self.jugadores = [Jugador(nombre) for nombre in jugadores]\n",
        "        self.ranking = {}   # diccionario → clave=nombre valor=puntuación\n",
        "\n",
        "    def jugar(self):\n",
        "        for jugador in self.jugadores:\n",
        "            jugador.lanzar_dado()\n",
        "            self.ranking[jugador.nombre] = jugador.puntuacion   # añadimos parejas clave:valor al diccionario\n",
        "            print(f'{jugador.nombre} ha obtenido {jugador.puntuacion} puntos')\n",
        "\n",
        "        max_puntuacion = max(self.ranking.values())             # máximo de las puntuaciones\n",
        "        # ganadores es un vector con el nombre de los ganadores\n",
        "        ganadores = [nombre for nombre, puntuacion in self.ranking.items() if puntuacion == max_puntuacion]\n",
        "\n",
        "        print(f'\\nRanking:')        # Ranking en orden decreciente de puntuación\n",
        "        for nombre, puntuacion in sorted(self.ranking.items(), key=lambda item: item[1], reverse=True):\n",
        "            print(f'{nombre}: {puntuacion} puntos')\n",
        "\n",
        "        print(f'\\nGanador(es):')\n",
        "        for ganador in ganadores:\n",
        "            print(f'{ganador} con {max_puntuacion} puntos')\n",
        "\n",
        "# Ejemplo de uso\n",
        "nombres = ['Jugador1', 'Jugador2', 'Jugador3', 'Jugador4']  # Poner los deseados\n",
        "juego = Juego(nombres)\n",
        "juego.jugar()"
      ],
      "metadata": {
        "id": "Pg05LAAbbjU_",
        "outputId": "6c14a0e8-dddf-40bb-e923-ecd48fdc63fb",
        "colab": {
          "base_uri": "https://localhost:8080/"
        }
      },
      "execution_count": 11,
      "outputs": [
        {
          "output_type": "stream",
          "name": "stdout",
          "text": [
            "Jugador1 ha obtenido 6 puntos\n",
            "Jugador2 ha obtenido 1 puntos\n",
            "Jugador3 ha obtenido 6 puntos\n",
            "Jugador4 ha obtenido 1 puntos\n",
            "\n",
            "Ranking:\n",
            "Jugador1: 6 puntos\n",
            "Jugador3: 6 puntos\n",
            "Jugador2: 1 puntos\n",
            "Jugador4: 1 puntos\n",
            "\n",
            "Ganador(es):\n",
            "Jugador1 con 6 puntos\n",
            "Jugador3 con 6 puntos\n"
          ]
        }
      ]
    }
  ]
}